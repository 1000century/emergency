{
 "cells": [
  {
   "cell_type": "markdown",
   "id": "5e6748b7",
   "metadata": {
    "id": "5e6748b7"
   },
   "source": [
    "<div style=\"background-color: #f8f9fa; padding: 20px; border-radius: 8px; border-left: 5px solid #0056b3;\">\n",
    "    <div style=\"background-color: #0056b3; color: white; padding: 5px 10px; border-radius: 4px; display: inline-block; margin-bottom: 10px; font-weight: bold;\">V8 > V9 > v10 > v11 | v12 | v13 > v14 > v15 | v16 v17 v18 | v19</div>\n",
    "    <h2 style=\"color: #0056b3; margin-top: 0;\">🔧 Model Configuration</h2>\n",
    "    <ul style=\"color: #495057; font-size: 16px; margin-bottom: 20px;\">\n",
    "        <li style=\"margin-bottom: 10px;\">\n",
    "            <div style=\"font-weight: bold; color: #0056b3; margin-bottom: 5px;\">Base Model</div>\n",
    "            <div style=\"color: #28a745; font-weight: bold;\">koelectra-base-v3-discriminator</div>\n",
    "        </li>\n",
    "        <li style=\"margin-bottom: 10px;\">\n",
    "            <div style=\"font-weight: bold; color: #0056b3; margin-bottom: 5px;\">Special Tokens</div>\n",
    "            <div style=\"color: #28a745; font-weight: bold;\">[SPK], [개인정보]</div>\n",
    "        </li>\n",
    "    </ul>\n",
    "    <h2 style=\"color: #0056b3; margin-top: 20px;\">🧪 Experimental Parameters</h2>\n",
    "    <div style=\"background-color: white; padding: 15px; border-radius: 8px; margin-top: 10px;\">\n",
    "        <div style=\"margin-bottom: 20px;\">\n",
    "            <div style=\"font-weight: bold; color: #0056b3; margin-bottom: 10px;\">Tokenizer max_length Options:</div>\n",
    "            <ul style=\"color: #495057; list-style-type: none; padding-left: 0;\">\n",
    "                <li style=\"margin-bottom: 8px; display: flex; align-items: center;\">\n",
    "                    <span style=\"width: 20px; height: 20px; background-color: #e9ecef; border-radius: 50%; display: inline-block; margin-right: 10px;\"></span>\n",
    "                    128 tokens\n",
    "                </li>\n",
    "            </ul>\n",
    "        </div>\n",
    "        <div>\n",
    "            <div style=\"font-weight: bold; color: #0056b3; margin-bottom: 10px;\">Layer Freezing Options:</div>\n",
    "            <ul style=\"color: #495057; list-style-type: none; padding-left: 0;\">\n",
    "                <li style=\"margin-bottom: 8px; display: flex; align-items: center;\">\n",
    "                    <span style=\"width: 20px; height: 20px; background-color: #e9ecef; border-radius: 50%; display: inline-block; margin-right: 10px;\"></span>\n",
    "                    encoder layer 12개 전부 학습\n",
    "                </li>\n",
    "            </ul>\n",
    "        </div>\n",
    "        <div>\n",
    "            <div style=\"font-weight: bold; color: #0056b3; margin-bottom: 10px;\">Loss:</div>\n",
    "            <ul style=\"color: #495057; list-style-type: none; padding-left: 0;\">\n",
    "                <li style=\"margin-bottom: 8px; display: flex; align-items: center;\">\n",
    "                    <span style=\"width: 20px; height: 20px; background-color: #e9ecef; border-radius: 50%; display: inline-block; margin-right: 10px;\"></span>\n",
    "                    train시에만 criterion에 가중치 부여 loss 계산\n",
    "                </li>\n",
    "            </ul>\n",
    "        </div>\n",
    "        <div>\n",
    "            <div style=\"font-weight: bold; color: #0056b3; margin-bottom: 10px;\">에포크:</div>\n",
    "            <ul style=\"color: #495057; list-style-type: none; padding-left: 0;\">\n",
    "                <li style=\"margin-bottom: 8px; display: flex; align-items: center;\">\n",
    "                    <span style=\"width: 20px; height: 20px; background-color: #e9ecef; border-radius: 50%; display: inline-block; margin-right: 10px;\"></span>\n",
    "                    3>8 | 8 | 10 | 12 | 20\n",
    "                </li>\n",
    "            </ul>\n",
    "        </div>\n",
    "    </div>\n",
    "    <h2 style=\"color: #0056b3; margin-top: 20px;\">📝 Version Description</h2>\n",
    "    <div style=\"background-color: white; padding: 15px; border-radius: 8px; margin-top: 10px;\">\n",
    "        <div style=\"color: #495057;\">전반적인 형식 변경</div>\n",
    "    </div>\n",
    "</div>"
   ]
  },
  {
   "cell_type": "markdown",
   "id": "864c0581",
   "metadata": {
    "id": "864c0581"
   },
   "source": []
  },
  {
   "cell_type": "markdown",
   "id": "e0daafc9",
   "metadata": {
    "id": "e0daafc9"
   },
   "source": [
    "\n",
    "# 모델 리스트\n",
    "\n",
    "-    \"monologg/kobert\",\n",
    "\n",
    "-    \"skt/kobert-base-v1\",\n",
    "\n",
    "-    \"snunlp/KR-BERT-char16424\",\n",
    "\n",
    "-    \"klue/bert-base\",\n",
    "\n",
    "-    \"beomi/KcELECTRA-base\",\n",
    "\n",
    "-     \"monologg/koelectra-base-v3-discriminator\""
   ]
  },
  {
   "cell_type": "code",
   "execution_count": 1,
   "id": "ad5ac47a",
   "metadata": {
    "colab": {
     "base_uri": "https://localhost:8080/"
    },
    "executionInfo": {
     "elapsed": 4440,
     "status": "ok",
     "timestamp": 1731306379738,
     "user": {
      "displayName": "김범준",
      "userId": "10258325934353931526"
     },
     "user_tz": -540
    },
    "id": "ad5ac47a",
    "outputId": "9a7037a8-ca4d-4506-8c0a-9a81f4218301"
   },
   "outputs": [
    {
     "name": "stdout",
     "output_type": "stream",
     "text": [
      "\n",
      "## monologg/kobert 토크나이징 결과\n"
     ]
    },
    {
     "name": "stderr",
     "output_type": "stream",
     "text": [
      "/usr/local/lib/python3.10/dist-packages/huggingface_hub/utils/_token.py:89: UserWarning: \n",
      "The secret `HF_TOKEN` does not exist in your Colab secrets.\n",
      "To authenticate with the Hugging Face Hub, create a token in your settings tab (https://huggingface.co/settings/tokens), set it as secret in your Google Colab and restart your session.\n",
      "You will be able to reuse this secret in all of your notebooks.\n",
      "Please note that authentication is recommended but still optional to access public models or datasets.\n",
      "  warnings.warn(\n",
      "/usr/local/lib/python3.10/dist-packages/transformers/tokenization_utils_base.py:1601: FutureWarning: `clean_up_tokenization_spaces` was not set. It will be set to `True` by default. This behavior will be depracted in transformers v4.45, and will be then set to `False` by default. For more details check this issue: https://github.com/huggingface/transformers/issues/31884\n",
      "  warnings.warn(\n"
     ]
    },
    {
     "name": "stdout",
     "output_type": "stream",
     "text": [
      "토큰: ['▁안', '녕', '하세요', '.', '▁오늘', '은', '▁날씨', '가', '▁참', '▁좋', '네요', '.']\n",
      "인코딩: tensor([[   2, 3135, 5724, 7814,   54, 3419, 7086, 1408, 5330, 4427, 4204, 5703,\n",
      "           54,    3]])\n",
      "디코딩: [CLS] 안녕하세요. 오늘은 날씨가 참 좋네요.[SEP]\n",
      "vocab_size: 8002\n",
      "\n",
      "## skt/kobert-base-v1 토크나이징 결과\n",
      "토큰: ['▁', 'ᄋ', 'ᅡᆫ녕', 'ᄒ', 'ᅡ세', 'ᄋ', 'ᅭ', '.', '▁', 'ᄋ', 'ᅩ늘', 'ᄋ', 'ᅳᆫ', '▁', '날ᄊ', 'ᅵ', 'ᄀ', 'ᅡ', '▁', '참', '▁', '좋네', 'ᄋ', 'ᅭ', '.']\n",
      "인코딩: tensor([[517, 491,   0, 493,   0, 491,   0,  54, 517, 491,   0, 491,   0, 517,\n",
      "           0, 494, 490,   0, 517,   0, 517,   0, 491,   0,  54,   0,   0]])\n",
      "디코딩: ᄋ[UNK]ᄒ[UNK]ᄋ[UNK]. ᄋ[UNK]ᄋ[UNK] [UNK]ᅵᄀ[UNK] [UNK] [UNK]ᄋ[UNK].[UNK][UNK]\n",
      "vocab_size: 8002\n",
      "\n",
      "## snunlp/KR-BERT-char16424 토크나이징 결과\n",
      "토큰: ['안', '##녕', '##하', '##세요', '.', '오늘', '##은', '날씨', '##가', '참', '좋', '##네요', '.']\n",
      "인코딩: tensor([[    2,   128,  5660,   160,  4270,     5,  1248,    15,  5647,    16,\n",
      "           901, 13515,  7131,     5,     3]])\n",
      "디코딩: [CLS] 안녕하세요. 오늘은 날씨가 참 좋네요. [SEP]\n",
      "vocab_size: 16424\n",
      "\n",
      "## klue/bert-base 토크나이징 결과\n",
      "토큰: ['안녕', '##하', '##세요', '.', '오늘', '##은', '날씨', '##가', '참', '좋', '##네', '##요', '.']\n",
      "인코딩: tensor([[   2, 5891, 2205, 5971,   18, 3822, 2073, 5792, 2116, 1637, 1560, 2203,\n",
      "         2182,   18,    3]])\n",
      "디코딩: [CLS] 안녕하세요. 오늘은 날씨가 참 좋네요. [SEP]\n",
      "vocab_size: 32000\n",
      "\n",
      "## beomi/KcELECTRA-base 토크나이징 결과\n",
      "토큰: ['ĠìķĪëħķ', 'íķĺìĦ¸ìļĶ', '.', 'Ġìĺ¤ëĬĺìĿĢ', 'ĠëĤł', 'ìĶ¨ê°Ģ', 'Ġì°¸', 'Ġì¢ĭëĦ¤ìļĶ', '.']\n",
      "인코딩: tensor([[14712,  1918,    18, 12562,  1388,  3476,   763, 18303,    18]])\n",
      "디코딩: ĠìķĪëħķ íķĺìĦ¸ìļĶ. Ġìĺ¤ëĬĺìĿĢ ĠëĤł ìĶ¨ê°Ģ Ġì°¸ Ġì¢ĭëĦ¤ìļĶ.\n",
      "vocab_size: 30000\n",
      "\n",
      "## monologg/koelectra-base-v3-discriminator 토크나이징 결과\n",
      "토큰: ['안녕', '##하', '##세요', '.', '오늘', '##은', '날씨', '##가', '참', '좋', '##네', '##요', '.']\n",
      "인코딩: tensor([[    2, 11655,  4279,  8553,    18,  6451,  4112,  8413,  4070,  3425,\n",
      "          3311,  4116,  4150,    18,     3]])\n",
      "디코딩: [CLS] 안녕하세요. 오늘은 날씨가 참 좋네요. [SEP]\n",
      "vocab_size: 35000\n"
     ]
    }
   ],
   "source": [
    "from transformers import AutoTokenizer\n",
    "import torch\n",
    "from transformers import AutoTokenizer\n",
    "from transformers import AutoModel, AutoConfig\n",
    "\n",
    "# 테스트할 문장\n",
    "test_sentence = \"안녕하세요. 오늘은 날씨가 참 좋네요.\"\n",
    "\n",
    "# 모델 리스트\n",
    "models = [\n",
    "    \"monologg/kobert\",\n",
    "    \"skt/kobert-base-v1\",\n",
    "    \"snunlp/KR-BERT-char16424\",\n",
    "    \"klue/bert-base\",\n",
    "    \"beomi/KcELECTRA-base\",\n",
    "    \"monologg/koelectra-base-v3-discriminator\"\n",
    "]\n",
    "\n",
    "def tokenize_and_print(model_name, sentence):\n",
    "    print(f\"\\n## {model_name} 토크나이징 결과\")\n",
    "    try:\n",
    "        tokenizer = AutoTokenizer.from_pretrained(model_name, trust_remote_code=True)\n",
    "        tokens = tokenizer.tokenize(sentence)\n",
    "        print(f\"토큰: {tokens}\")\n",
    "\n",
    "        # 인코딩 결과도 출력\n",
    "        encoded = tokenizer.encode(sentence, return_tensors='pt')\n",
    "        print(f\"인코딩: {encoded}\")\n",
    "\n",
    "        # 디코딩 결과 확인\n",
    "        decoded = tokenizer.decode(encoded[0])\n",
    "        print(f\"디코딩: {decoded}\")\n",
    "        print(f'vocab_size: {tokenizer.vocab_size}')\n",
    "    except Exception as e:\n",
    "        print(f\"오류 발생: {str(e)}\")\n",
    "\n",
    "\n",
    "# 각 모델에 대해 토크나이징 수행\n",
    "for model in models:\n",
    "    tokenize_and_print(model, test_sentence)"
   ]
  },
  {
   "cell_type": "code",
   "execution_count": null,
   "id": "8e75537b",
   "metadata": {
    "colab": {
     "base_uri": "https://localhost:8080/"
    },
    "executionInfo": {
     "elapsed": 40640,
     "status": "ok",
     "timestamp": 1731306420376,
     "user": {
      "displayName": "김범준",
      "userId": "10258325934353931526"
     },
     "user_tz": -540
    },
    "id": "8e75537b",
    "outputId": "8cd79998-7bc3-4e36-9575-919890ab67a5"
   },
   "outputs": [
    {
     "name": "stdout",
     "output_type": "stream",
     "text": [
      "TL_광주_구급.json\n",
      "TL_광주_구조.json\n",
      "TL_광주_기타.json\n",
      "TL_광주_화재.json\n",
      "TL_서울_구급.json\n",
      "TL_서울_구조.json\n",
      "TL_서울_기타.json\n",
      "TL_서울_화재.json\n",
      "TL_인천_구급.json\n",
      "TL_인천_구조.json\n",
      "TL_인천_기타.json\n",
      "TL_인천_화재.json\n",
      "\n",
      "Train DataFrame Shape: (127178, 19)\n",
      "\n",
      "Valid DataFrame Shape: (15897, 19)\n"
     ]
    }
   ],
   "source": [
    "import pandas as pd\n",
    "import requests\n",
    "\n",
    "# base URL과 파일 리스트 정의\n",
    "base_url = \"<data_url>\"\n",
    "train_files = [\n",
    "    'TL_광주_구급.json', 'TL_광주_구조.json', 'TL_광주_기타.json', 'TL_광주_화재.json',\n",
    "    'TL_서울_구급.json', 'TL_서울_구조.json', 'TL_서울_기타.json', 'TL_서울_화재.json',\n",
    "    'TL_인천_구급.json', 'TL_인천_구조.json', 'TL_인천_기타.json', 'TL_인천_화재.json'\n",
    "]\n",
    "\n",
    "for file in train_files:\n",
    "    print(file)\n",
    "    encoded_file = quote(file)\n",
    "    url = base_url + encoded_file\n",
    "    df = pd.read_json(url)\n",
    "    df['region'] = file.split('_')[1]\n",
    "    df['type'] = file.split('_')[2].replace('.json', '')\n",
    "    train_dfs.append(df)\n",
    "\n",
    "# valid files\n",
    "base_url = \"https://media.githubusercontent.com/media/1000century/ml/master/valid_label/\"\n",
    "valid_files = [file.replace('TL_', 'VL_') for file in train_files]\n",
    "valid_dfs = []\n",
    "\n",
    "for file in valid_files:\n",
    "    encoded_file = quote(file)\n",
    "    url = base_url + encoded_file\n",
    "    df = pd.read_json(url)\n",
    "    df['region'] = file.split('_')[1]\n",
    "    df['type'] = file.split('_')[2].replace('.json', '')\n",
    "    valid_dfs.append(df)\n",
    "\n",
    "# 데이터프레임 합치기\n",
    "df_orig_train = pd.concat(train_dfs, ignore_index=True)\n",
    "df_orig_valid = pd.concat(valid_dfs, ignore_index=True)\n",
    "\n",
    "print(\"\\nTrain DataFrame Shape:\", df_orig_train.shape)\n",
    "print(\"\\nValid DataFrame Shape:\", df_orig_valid.shape)"
   ]
  },
  {
   "cell_type": "code",
   "execution_count": 3,
   "id": "3a1aae43",
   "metadata": {
    "colab": {
     "base_uri": "https://localhost:8080/",
     "height": 162
    },
    "executionInfo": {
     "elapsed": 2870,
     "status": "ok",
     "timestamp": 1731306423241,
     "user": {
      "displayName": "김범준",
      "userId": "10258325934353931526"
     },
     "user_tz": -540
    },
    "id": "3a1aae43",
    "outputId": "2df428be-2afb-489f-d48d-29d7d7efe953"
   },
   "outputs": [
    {
     "data": {
      "application/vnd.google.colaboratory.intrinsic+json": {
       "type": "string"
      },
      "text/plain": [
       "'[SPK] 네, 119입니다. [SPK] 예, 여보세요? [SPK] 예, 119입니다. 말씀하세요. [SPK] 저, 허리가 너무 아파서 그러는데. [SPK] 네. [SPK] 언제부터 아프셨어요? 언제부터 아프셨어요? [SPK] 어떡해야. [SPK] 저, 아까 낮에 병원, 병원 잠깐 갔다왔는데 그때는 괜찮았는데. [SPK] 예. [SPK] 그런 말하지마 그럼 빼주잖아. [SPK] 어, 아무튼 지금 차에 탈 수가 없, 아, 차에 탈 수가 없을 만큼 아파가지고. [SPK] 주소가 어디세요? [SPK] 여기, 어, 월남동 호반. [SPK] 호반베르디움 2차예요? [SPK] 예, 2차. [SPK] ***[개인정보] [SPK] 잠시만요. [SPK] 예전에도 한번. [SPK] 아예 마비돼가지고 하, 한 번 갔었거든요, 병원에요. [SPK] 저희 갈 건데 문 열어줄 수 있죠? [SPK] 네, 지금 근데 또 마비될까봐 지금 그 전 상태라서. [SPK] 지금 전화 드린거거든요. [SPK] 그런데 저희 구급차 출발할겁니다. 문 열어주세요. [SPK] 지금 문 열어드릴순 있어요. [SPK] 네.'"
      ]
     },
     "execution_count": 3,
     "metadata": {},
     "output_type": "execute_result"
    }
   ],
   "source": [
    "def process_dialogue(dialogue_list):\n",
    "    unique_speakers = sorted(set(item['speaker'] for item in dialogue_list))\n",
    "\n",
    "    speaker_tokens = {\n",
    "        speaker_id: f\"[SPK]\"\n",
    "        for idx, speaker_id in enumerate(unique_speakers)\n",
    "    }\n",
    "\n",
    "    sorted_dialogue = sorted(dialogue_list, key=lambda x: x['startAt'])\n",
    "    processed_texts = []\n",
    "    for utterance in sorted_dialogue:\n",
    "        speaker_token = speaker_tokens[utterance['speaker']]\n",
    "        processed_texts.append(f\"{speaker_token} {utterance['text']}\")\n",
    "    final_text = \" \".join(processed_texts)\n",
    "    return final_text\n",
    "\n",
    "df_orig_train['txt'] = df_orig_train['utterances'].apply(process_dialogue)\n",
    "df_orig_valid['txt'] = df_orig_valid['utterances'].apply(process_dialogue)\n",
    "df_orig_train['txt'].iloc[3]"
   ]
  },
  {
   "cell_type": "code",
   "execution_count": 4,
   "id": "65e47643",
   "metadata": {
    "colab": {
     "base_uri": "https://localhost:8080/"
    },
    "executionInfo": {
     "elapsed": 5,
     "status": "ok",
     "timestamp": 1731306423242,
     "user": {
      "displayName": "김범준",
      "userId": "10258325934353931526"
     },
     "user_tz": -540
    },
    "id": "65e47643",
    "outputId": "d66a9d03-c216-4fd9-da0d-81bfd9538000"
   },
   "outputs": [
    {
     "name": "stdout",
     "output_type": "stream",
     "text": [
      "(127178, 20) (15897, 20)\n",
      "Index(['_id', 'audioPath', 'recordId', 'status', 'startAt', 'endAt',\n",
      "       'utterances', 'mediaType', 'gender', 'address', 'disasterLarge',\n",
      "       'disasterMedium', 'urgencyLevel', 'sentiment', 'symptom', 'triage',\n",
      "       'source_file', 'region', 'type', 'txt'],\n",
      "      dtype='object')\n"
     ]
    }
   ],
   "source": [
    "# 코드 잘 돌아가는지 확인하기 위해 샘플링 데이터 개수 설정\n",
    "df_train, df_valid = df_orig_train, df_orig_valid\n",
    "print(df_train.shape, df_valid.shape)\n",
    "print(df_train.columns)\n"
   ]
  },
  {
   "cell_type": "code",
   "execution_count": 5,
   "id": "02bd930a",
   "metadata": {
    "colab": {
     "base_uri": "https://localhost:8080/"
    },
    "executionInfo": {
     "elapsed": 373,
     "status": "ok",
     "timestamp": 1731306423611,
     "user": {
      "displayName": "김범준",
      "userId": "10258325934353931526"
     },
     "user_tz": -540
    },
    "id": "02bd930a",
    "outputId": "bfa72cd6-1f39-4fd6-d906-903ee638b8a0"
   },
   "outputs": [
    {
     "name": "stdout",
     "output_type": "stream",
     "text": [
      "dataset             |       train       |      valid     \n",
      "urgencyLevel        |   상    중    하   |   상    중    하\n",
      "--------------------------------------------------\n",
      "구급     기타구급       | 1757 3058 2917 |  243  393  361\n",
      "구급     부상         | 1420 5701 6368 |  171  718  831\n",
      "구급     사고         |  360  647  262 |   50   68   31\n",
      "구급     심정지        | 2461   36    7 |  325    3    0\n",
      "구급     약물중독       |  179   19    5 |   27    3    0\n",
      "구급     임산부        |  224   13    3 |   29    4    0\n",
      "구급     질병(중증 외)   | 9207 26073 22422 | 1146 3219 2815\n",
      "구급     질병(중증)     | 11377 1338  199 | 1402  155   27\n",
      "구조     기타구조       |  513 1229 4592 |   65  140  567\n",
      "구조     대물사고       |  995 1099  527 |  117  111   55\n",
      "구조     안전사고       | 2409 2752 3853 |  294  322  472\n",
      "구조     자살         |  296   16    8 |   45    3    0\n",
      "기타     기타         |  137  498 3664 |   17   54  443\n",
      "화재     기타화재       | 1020   42   39 |  128    5    4\n",
      "화재     산불         |  118    0    0 |   12    0    0\n",
      "화재     일반화재       | 6826  314  178 |  958   39   25\n"
     ]
    }
   ],
   "source": [
    "df_combined = pd.concat([df_train.assign(dataset='train'), df_valid.assign(dataset='valid')])\n",
    "pivot = df_combined.groupby(['disasterLarge', 'disasterMedium', 'dataset', 'urgencyLevel']).size().unstack(['dataset', 'urgencyLevel'], fill_value=0)\n",
    "\n",
    "print(\"dataset             |       train       |      valid     \")\n",
    "print(\"urgencyLevel        |   상    중    하   |   상    중    하\")\n",
    "print(\"-\" * 50)\n",
    "for idx in pivot.index:\n",
    "    large, medium = idx\n",
    "    vals = pivot.loc[idx]\n",
    "    print(f\"{large:6} {medium:10} | {vals['train','상']:4.0f} {vals['train','중']:4.0f} {vals['train','하']:4.0f} | {vals['valid','상']:4.0f} {vals['valid','중']:4.0f} {vals['valid','하']:4.0f}\")"
   ]
  },
  {
   "cell_type": "code",
   "execution_count": 6,
   "id": "a73a0924",
   "metadata": {
    "executionInfo": {
     "elapsed": 364,
     "status": "ok",
     "timestamp": 1731306423971,
     "user": {
      "displayName": "김범준",
      "userId": "10258325934353931526"
     },
     "user_tz": -540
    },
    "id": "a73a0924"
   },
   "outputs": [],
   "source": [
    "from transformers import BertTokenizerFast\n",
    "import pandas as pd\n",
    "from torch.utils.data import Dataset, DataLoader\n",
    "import torch\n",
    "import torch.nn.parallel as parallel\n",
    "from transformers import AutoTokenizer\n",
    "from sklearn.preprocessing import LabelEncoder\n",
    "from transformers import AutoModel, AutoConfig\n",
    "class AIDataset(Dataset):\n",
    "    def __init__(self, dataframe, tokenizer, text_column='txt', label_column=None, max_length=128):\n",
    "        self.texts = dataframe[text_column].values\n",
    "        self.label_encoder = LabelEncoder()\n",
    "        self.labels = self.label_encoder.fit_transform(dataframe[label_column].values)\n",
    "        self.label_classes = self.label_encoder.classes_\n",
    "        self.tokenizer = tokenizer  # 외부에서 정의된 토크나이저를 받아옴\n",
    "        self.max_length = max_length\n",
    "\n",
    "    def __len__(self):\n",
    "        return len(self.texts)\n",
    "\n",
    "    def __getitem__(self, idx):\n",
    "        text = str(self.texts[idx])\n",
    "        encoding = self.tokenizer(\n",
    "            text,\n",
    "            max_length=self.max_length,\n",
    "            padding='max_length',\n",
    "            truncation=True,\n",
    "            return_tensors='pt'\n",
    "        )\n",
    "\n",
    "        item = {\n",
    "            'input_ids': encoding['input_ids'].squeeze(),\n",
    "            'attention_mask': encoding['attention_mask'].squeeze(),\n",
    "            'target':  torch.tensor(self.labels[idx])\n",
    "        }\n",
    "        return item"
   ]
  },
  {
   "cell_type": "code",
   "execution_count": 7,
   "id": "aab0c60a",
   "metadata": {
    "colab": {
     "base_uri": "https://localhost:8080/"
    },
    "executionInfo": {
     "elapsed": 2180,
     "status": "ok",
     "timestamp": 1731306426150,
     "user": {
      "displayName": "김범준",
      "userId": "10258325934353931526"
     },
     "user_tz": -540
    },
    "id": "aab0c60a",
    "outputId": "fc3e4b78-cb78-4440-bb71-7c8b8cb5c281"
   },
   "outputs": [
    {
     "name": "stderr",
     "output_type": "stream",
     "text": [
      "/usr/local/lib/python3.10/dist-packages/transformers/tokenization_utils_base.py:1601: FutureWarning: `clean_up_tokenization_spaces` was not set. It will be set to `True` by default. This behavior will be depracted in transformers v4.45, and will be then set to `False` by default. For more details check this issue: https://github.com/huggingface/transformers/issues/31884\n",
      "  warnings.warn(\n"
     ]
    },
    {
     "name": "stdout",
     "output_type": "stream",
     "text": [
      "vocabulary size: 35002\n",
      "\n",
      "Special tokens:\n",
      "All special tokens: ['[UNK]', '[SEP]', '[PAD]', '[CLS]', '[MASK]', '[SPK]', '[개인정보]']\n",
      "Number of special tokens: 7\n",
      "\n",
      "Special token map:\n",
      "unk_token: [UNK]\n",
      "sep_token: [SEP]\n",
      "pad_token: [PAD]\n",
      "cls_token: [CLS]\n",
      "mask_token: [MASK]\n",
      "additional_special_tokens: ['[SPK]', '[개인정보]']\n",
      "\n",
      "New model embedding size: 35002\n"
     ]
    }
   ],
   "source": [
    "tokenizer = AutoTokenizer.from_pretrained(\"monologg/koelectra-base-v3-discriminator\")\n",
    "base_model = AutoModel.from_pretrained(\"monologg/koelectra-base-v3-discriminator\")\n",
    "\n",
    "special_tokens_dict = {\n",
    "    'additional_special_tokens': ['[SPK]', '[개인정보]']\n",
    "}\n",
    "tokenizer.add_special_tokens(special_tokens_dict)\n",
    "\n",
    "print(f\"vocabulary size: {len(tokenizer)}\")\n",
    "\n",
    "print(\"\\nSpecial tokens:\")\n",
    "print(f\"All special tokens: {tokenizer.all_special_tokens}\")\n",
    "print(f\"Number of special tokens: {len(tokenizer.all_special_tokens)}\")\n",
    "\n",
    "print(\"\\nSpecial token map:\")\n",
    "for token, token_id in tokenizer.special_tokens_map.items():\n",
    "    print(f\"{token}: {token_id}\")\n",
    "\n",
    "base_model.resize_token_embeddings(len(tokenizer))\n",
    "print(f\"\\nNew model embedding size: {base_model.embeddings.word_embeddings.weight.size(0)}\")"
   ]
  },
  {
   "cell_type": "code",
   "execution_count": 8,
   "id": "ae23f2ef",
   "metadata": {
    "colab": {
     "base_uri": "https://localhost:8080/"
    },
    "executionInfo": {
     "elapsed": 11,
     "status": "ok",
     "timestamp": 1731306426150,
     "user": {
      "displayName": "김범준",
      "userId": "10258325934353931526"
     },
     "user_tz": -540
    },
    "id": "ae23f2ef",
    "outputId": "dcae3aff-1339-47e9-851d-c915e7c6034d"
   },
   "outputs": [
    {
     "name": "stdout",
     "output_type": "stream",
     "text": [
      "\n",
      "Label mapping: {0: '구급', 1: '구조', 2: '기타', 3: '화재'}\n"
     ]
    }
   ],
   "source": [
    "train_dataset = AIDataset(\n",
    "    dataframe=df_train,\n",
    "    tokenizer=tokenizer,  # 토크나이저 전달\n",
    "    text_column='txt',\n",
    "    label_column='disasterLarge',\n",
    "    max_length=128\n",
    ")\n",
    "\n",
    "valid_dataset = AIDataset(\n",
    "    dataframe=df_valid,\n",
    "    tokenizer=tokenizer,  # 토크나이저 전달\n",
    "    text_column='txt',\n",
    "    label_column='disasterLarge',\n",
    "    max_length=128\n",
    ")\n",
    "\n",
    "print(\"\\nLabel mapping:\", dict(enumerate(train_dataset.label_classes)))"
   ]
  },
  {
   "cell_type": "code",
   "execution_count": 9,
   "id": "3538873a",
   "metadata": {
    "colab": {
     "base_uri": "https://localhost:8080/"
    },
    "executionInfo": {
     "elapsed": 9,
     "status": "ok",
     "timestamp": 1731306426150,
     "user": {
      "displayName": "김범준",
      "userId": "10258325934353931526"
     },
     "user_tz": -540
    },
    "id": "3538873a",
    "outputId": "1c050f91-2242-4d94-ba33-72f52f172cb1"
   },
   "outputs": [
    {
     "name": "stdout",
     "output_type": "stream",
     "text": [
      "[SPK] 119입니다. [SPK] 예, 엊그저, 엊그저께 코로나 주사 맞앗는데. [SPK] 예 말씀하세. [SPK] 예. [SPK] 몸이 좀 가슴이 안좋다네요 안면이 마비되고 심장도 안좋고 호흡이 안된다네요. [SPK] 안면이 마비되고. [SPK] 본인이 그러세요 본인이 그러세요? [SPK] 옆, 옆에 계시는데 [SPK] 옆에 계시는분이? [SPK] 예, 지금 대화가 좀 힘들 예예예예 [SPK] 아 그래요? 거기가 지금 하남 열처리 그가 맞아요? [SPK] 예에 하남 열처리 거 뒤쪽에 바로 있어요. [SPK] 뒤쪽? [SPK] 예예예 호남 브레이크 호남 브레이크 안쪽으로 들어오시면 돼요. [SPK] 뒤쪽 어디? [SPK] 호남 브레이카요, 그리 차 보내드리겠습니다. [SPK] 예예예. [SPK] 예 [SPK] 예 예.\n",
      "\n",
      "[CLS] [SPK] 119입니다. [SPK] 예, 엊그저, 엊그저께 코로나 주사 맞앗는데. [SPK] 예 말씀하세. [SPK] 예. [SPK] 몸이 좀 가슴이 안좋다네요 안면이 마비되고 심장도 안좋고 호흡이 안된다네요. [SPK] 안면이 마비되고. [SPK] 본인이 그러세요 본인이 그러세요? [SPK] 옆, 옆에 계시는데 [SPK] 옆에 계시는분이? [SPK] 예, 지금 대화가 좀 힘들 예예예예 [SPK] 아 그래요? 거기가 지금 하남 열처리 그가 맞아요? [SPK] 예에 하남 열처리 거 뒤쪽에 바로 [SEP]\n",
      "\n"
     ]
    },
    {
     "data": {
      "text/plain": [
       "{'input_ids': tensor([    2, 35000, 12194, 10561,    18, 35000,  3153,    16, 30518,  4394,\n",
       "            16, 30518,  4394,  5253, 28588,  4065, 11022,  2639,  4633, 18781,\n",
       "            18, 35000,  3153,  7090,  4279,  4246,    18, 35000,  3153,    18,\n",
       "         35000,  2682,  4007,  3305,  7352,  4007,  3081,  4835,  4176,  4116,\n",
       "          4150, 16762,  4007, 11445,  4479,  4219,  8678,  4086,  3081,  4835,\n",
       "          4219,  8988,  4007,  3081,  4880,  4176,  4116,  4150,    18, 35000,\n",
       "         16762,  4007, 11445,  4479,  4219,    18, 35000,  7597,  4007,  6239,\n",
       "          8553,  7597,  4007,  6239,  8553,    35, 35000,  3151,    16,  3151,\n",
       "          4073,  9897, 18781, 35000,  3151,  4073,  9897,  4034,  4473,  4007,\n",
       "            35, 35000,  3153,    16,  6292,  6924,  4070,  3305,  7048, 27114,\n",
       "          4463,  4463, 35000,  3079, 14580,    35,  7149,  4070,  6292, 19138,\n",
       "          3142, 23221,  2126,  4070, 26759,  4150,    35, 35000,  3153,  4073,\n",
       "         19138,  3142, 23221,  2041, 15277,  4073,  6422,     3]),\n",
       " 'attention_mask': tensor([1, 1, 1, 1, 1, 1, 1, 1, 1, 1, 1, 1, 1, 1, 1, 1, 1, 1, 1, 1, 1, 1, 1, 1,\n",
       "         1, 1, 1, 1, 1, 1, 1, 1, 1, 1, 1, 1, 1, 1, 1, 1, 1, 1, 1, 1, 1, 1, 1, 1,\n",
       "         1, 1, 1, 1, 1, 1, 1, 1, 1, 1, 1, 1, 1, 1, 1, 1, 1, 1, 1, 1, 1, 1, 1, 1,\n",
       "         1, 1, 1, 1, 1, 1, 1, 1, 1, 1, 1, 1, 1, 1, 1, 1, 1, 1, 1, 1, 1, 1, 1, 1,\n",
       "         1, 1, 1, 1, 1, 1, 1, 1, 1, 1, 1, 1, 1, 1, 1, 1, 1, 1, 1, 1, 1, 1, 1, 1,\n",
       "         1, 1, 1, 1, 1, 1, 1, 1]),\n",
       " 'target': tensor(0)}"
      ]
     },
     "execution_count": 9,
     "metadata": {},
     "output_type": "execute_result"
    }
   ],
   "source": [
    "print(df_train['txt'].iloc[0])\n",
    "print()\n",
    "print(tokenizer.decode(train_dataset[0]['input_ids']))\n",
    "print()\n",
    "train_dataset[0]"
   ]
  },
  {
   "cell_type": "code",
   "execution_count": 10,
   "id": "46732a79",
   "metadata": {
    "colab": {
     "base_uri": "https://localhost:8080/"
    },
    "executionInfo": {
     "elapsed": 365,
     "status": "ok",
     "timestamp": 1731306426510,
     "user": {
      "displayName": "김범준",
      "userId": "10258325934353931526"
     },
     "user_tz": -540
    },
    "id": "46732a79",
    "outputId": "5b455784-f9b5-45d4-d590-a07dbc62b6c2"
   },
   "outputs": [
    {
     "name": "stdout",
     "output_type": "stream",
     "text": [
      "{'input_ids': tensor([[    2, 35000, 12194,  ...,     3,     0,     0],\n",
      "        [    2, 35000,  2279,  ...,  2914,  6265,     3],\n",
      "        [    2, 35000, 12194,  ...,    18, 35000,     3],\n",
      "        ...,\n",
      "        [    2, 35000, 12194,  ...,  4361,  3249,     3],\n",
      "        [    2, 35000,  3153,  ...,  4139,  4244,     3],\n",
      "        [    2, 35000,  3153,  ...,  4147,  4244,     3]]), 'attention_mask': tensor([[1, 1, 1,  ..., 1, 0, 0],\n",
      "        [1, 1, 1,  ..., 1, 1, 1],\n",
      "        [1, 1, 1,  ..., 1, 1, 1],\n",
      "        ...,\n",
      "        [1, 1, 1,  ..., 1, 1, 1],\n",
      "        [1, 1, 1,  ..., 1, 1, 1],\n",
      "        [1, 1, 1,  ..., 1, 1, 1]]), 'target': tensor([0, 0, 0, 0, 0, 0, 0, 2, 0, 0, 0, 0, 0, 0, 0, 0, 0, 0, 0, 0, 0, 3, 1, 0,\n",
      "        1, 0, 0, 0, 0, 0, 0, 0, 0, 0, 0, 0, 0, 3, 0, 0, 0, 1, 0, 0, 0, 1, 0, 0,\n",
      "        0, 1, 0, 3, 0, 0, 0, 0, 0, 0, 0, 0, 0, 0, 1, 3, 3, 0, 0, 0, 0, 0, 1, 1,\n",
      "        1, 0, 0, 0, 1, 0, 0, 0, 0, 0, 0, 3, 0, 0, 3, 0, 0, 0, 0, 3, 1, 0, 2, 0,\n",
      "        0, 0, 0, 1, 0, 1, 0, 0, 0, 0, 0, 2, 1, 0, 0, 0, 0, 0, 3, 0, 0, 0, 3, 3,\n",
      "        0, 0, 0, 0, 0, 0, 3, 0])}\n"
     ]
    }
   ],
   "source": [
    "train_loader = DataLoader(\n",
    "    train_dataset,\n",
    "    batch_size=128,\n",
    "    shuffle=True\n",
    ")\n",
    "\n",
    "valid_loader = DataLoader(\n",
    "    valid_dataset,\n",
    "    batch_size=128,\n",
    "    shuffle=False\n",
    ")\n",
    "\n",
    "for batch in train_loader:\n",
    "    input_ids = batch['input_ids']\n",
    "    attention_mask = batch['attention_mask']\n",
    "    labels = batch['target']\n",
    "    print(batch)\n",
    "    break"
   ]
  },
  {
   "cell_type": "code",
   "execution_count": 11,
   "id": "db89ce14",
   "metadata": {
    "executionInfo": {
     "elapsed": 5,
     "status": "ok",
     "timestamp": 1731306426510,
     "user": {
      "displayName": "김범준",
      "userId": "10258325934353931526"
     },
     "user_tz": -540
    },
    "id": "db89ce14"
   },
   "outputs": [],
   "source": [
    "from transformers import AutoModel, AutoConfig\n",
    "import torch.nn as nn\n",
    "import torch.optim as optim\n",
    "from tqdm import tqdm\n",
    "import numpy as np\n",
    "from sklearn.utils.class_weight import compute_class_weight\n",
    "\n",
    "class TextClassifier(nn.Module):\n",
    "    def __init__(self, bert_model, n_classes):\n",
    "        super(TextClassifier, self).__init__()\n",
    "        self.bert = bert_model\n",
    "\n",
    "        # 임베딩 레이어는 프리즈\n",
    "        for param in self.bert.embeddings.parameters():\n",
    "            param.requires_grad = False\n",
    "\n",
    "        # 인코더 레이어의 앞부분은 프리즈\n",
    "        for layer in self.bert.encoder.layer[:0]:\n",
    "            for param in layer.parameters():\n",
    "                param.requires_grad = False\n",
    "\n",
    "        self.drop = nn.Dropout(p=0.3)\n",
    "        self.fc = nn.Linear(768, n_classes)\n",
    "\n",
    "    def forward(self, input_ids, attention_mask):\n",
    "        outputs = self.bert(\n",
    "            input_ids=input_ids,\n",
    "            attention_mask=attention_mask\n",
    "        )\n",
    "        pooled_output = outputs.last_hidden_state[:, 0, :]\n",
    "        output = self.drop(pooled_output)\n",
    "        return self.fc(output)"
   ]
  },
  {
   "cell_type": "code",
   "execution_count": 12,
   "id": "f2552078",
   "metadata": {
    "colab": {
     "base_uri": "https://localhost:8080/"
    },
    "executionInfo": {
     "elapsed": 366,
     "status": "ok",
     "timestamp": 1731306426871,
     "user": {
      "displayName": "김범준",
      "userId": "10258325934353931526"
     },
     "user_tz": -540
    },
    "id": "f2552078",
    "outputId": "76099809-9ef5-4ff2-b01e-8e45002330e9"
   },
   "outputs": [
    {
     "name": "stdout",
     "output_type": "stream",
     "text": [
      "클래스 개수: 4\n",
      "클래스별 가중치: tensor([0.3310, 1.7384, 7.3958, 3.7243], device='cuda:0')\n",
      "\n",
      "전체 파라미터: 112,335,364개\n",
      "학습 가능한 파라미터: 85,057,540개\n",
      "학습 가능한 비율: 75.717510%\n",
      "\n",
      "TextClassifier(\n",
      "  (bert): ElectraModel(\n",
      "    (embeddings): ElectraEmbeddings(\n",
      "      (word_embeddings): Embedding(35002, 768, padding_idx=0)\n",
      "      (position_embeddings): Embedding(512, 768)\n",
      "      (token_type_embeddings): Embedding(2, 768)\n",
      "      (LayerNorm): LayerNorm((768,), eps=1e-12, elementwise_affine=True)\n",
      "      (dropout): Dropout(p=0.1, inplace=False)\n",
      "    )\n",
      "    (encoder): ElectraEncoder(\n",
      "      (layer): ModuleList(\n",
      "        (0-11): 12 x ElectraLayer(\n",
      "          (attention): ElectraAttention(\n",
      "            (self): ElectraSelfAttention(\n",
      "              (query): Linear(in_features=768, out_features=768, bias=True)\n",
      "              (key): Linear(in_features=768, out_features=768, bias=True)\n",
      "              (value): Linear(in_features=768, out_features=768, bias=True)\n",
      "              (dropout): Dropout(p=0.1, inplace=False)\n",
      "            )\n",
      "            (output): ElectraSelfOutput(\n",
      "              (dense): Linear(in_features=768, out_features=768, bias=True)\n",
      "              (LayerNorm): LayerNorm((768,), eps=1e-12, elementwise_affine=True)\n",
      "              (dropout): Dropout(p=0.1, inplace=False)\n",
      "            )\n",
      "          )\n",
      "          (intermediate): ElectraIntermediate(\n",
      "            (dense): Linear(in_features=768, out_features=3072, bias=True)\n",
      "            (intermediate_act_fn): GELUActivation()\n",
      "          )\n",
      "          (output): ElectraOutput(\n",
      "            (dense): Linear(in_features=3072, out_features=768, bias=True)\n",
      "            (LayerNorm): LayerNorm((768,), eps=1e-12, elementwise_affine=True)\n",
      "            (dropout): Dropout(p=0.1, inplace=False)\n",
      "          )\n",
      "        )\n",
      "      )\n",
      "    )\n",
      "  )\n",
      "  (drop): Dropout(p=0.3, inplace=False)\n",
      "  (fc): Linear(in_features=768, out_features=4, bias=True)\n",
      ")\n"
     ]
    }
   ],
   "source": [
    "device = torch.device('cuda' if torch.cuda.is_available() else 'cpu')\n",
    "n_classes = len(train_dataset.label_classes)\n",
    "print(f'클래스 개수: {n_classes}')\n",
    "\n",
    "labels = train_dataset.labels\n",
    "class_weights = compute_class_weight(\n",
    "    class_weight='balanced',\n",
    "    classes=np.unique(labels),\n",
    "    y=labels\n",
    ")\n",
    "class_weights = torch.FloatTensor(class_weights).to(device)\n",
    "print(\"클래스별 가중치:\", class_weights)\n",
    "\n",
    "model = TextClassifier(bert_model=base_model, n_classes=n_classes)\n",
    "if torch.cuda.device_count() > 1: # 멀티 GPU 사용하는 경우\n",
    "    print(f\"Using {torch.cuda.device_count()} GPUs!\")\n",
    "    model = nn.DataParallel(model)\n",
    "model = model.to(device)\n",
    "\n",
    "\n",
    "# 학습 가능한 파라미터 수 확인\n",
    "trainable_params = sum(p.numel() for p in model.parameters() if p.requires_grad)\n",
    "\n",
    "# 전체 파라미터 수 확인\n",
    "total_params = sum(p.numel() for p in model.parameters())\n",
    "\n",
    "print(f'\\n전체 파라미터: {total_params:,}개')\n",
    "print(f'학습 가능한 파라미터: {trainable_params:,}개')\n",
    "print(f'학습 가능한 비율: {100 * trainable_params / total_params:.6f}%')\n",
    "print(f'\\n{model}')\n"
   ]
  },
  {
   "cell_type": "code",
   "execution_count": 13,
   "id": "0ece26a4",
   "metadata": {
    "executionInfo": {
     "elapsed": 794,
     "status": "ok",
     "timestamp": 1731306427664,
     "user": {
      "displayName": "김범준",
      "userId": "10258325934353931526"
     },
     "user_tz": -540
    },
    "id": "0ece26a4"
   },
   "outputs": [],
   "source": [
    "n_epochs = 20\n",
    "train_criterion = nn.CrossEntropyLoss(weight=class_weights)\n",
    "eval_criterion = nn.CrossEntropyLoss()\n",
    "optimizer = optim.AdamW(model.parameters(), lr=2e-5)"
   ]
  },
  {
   "cell_type": "code",
   "execution_count": 14,
   "id": "2a944445",
   "metadata": {
    "executionInfo": {
     "elapsed": 5,
     "status": "ok",
     "timestamp": 1731306427664,
     "user": {
      "displayName": "김범준",
      "userId": "10258325934353931526"
     },
     "user_tz": -540
    },
    "id": "2a944445"
   },
   "outputs": [],
   "source": [
    "import matplotlib.pyplot as plt\n",
    "import seaborn as sns\n",
    "from sklearn.metrics import confusion_matrix, f1_score, classification_report\n",
    "import numpy as np\n",
    "\n",
    "def calculate_metrics(outputs, labels):\n",
    "    # outputs가 1차원인지 2차원인지 확인\n",
    "    if len(outputs.shape) == 1:\n",
    "        preds = outputs\n",
    "    else:\n",
    "        _, preds = torch.max(outputs, dim=1)\n",
    "\n",
    "    preds = preds.cpu().numpy()\n",
    "    labels = labels.cpu().numpy()\n",
    "\n",
    "    accuracy = np.mean(preds == labels)\n",
    "    f1 = f1_score(labels, preds, average='weighted')\n",
    "\n",
    "    return accuracy, f1, preds"
   ]
  },
  {
   "cell_type": "code",
   "execution_count": 15,
   "id": "1a4e3d16",
   "metadata": {
    "executionInfo": {
     "elapsed": 4,
     "status": "ok",
     "timestamp": 1731306427664,
     "user": {
      "displayName": "김범준",
      "userId": "10258325934353931526"
     },
     "user_tz": -540
    },
    "id": "1a4e3d16"
   },
   "outputs": [],
   "source": [
    "def train_epoch(model, dataloader, optimizer, criterion, device):\n",
    "    model.train()\n",
    "    total_loss = 0\n",
    "    training_history = {\n",
    "        'batch_losses': [],\n",
    "        'input_ids': [],\n",
    "        'labels': [],\n",
    "        'outputs': [],\n",
    "        'predictions': [],\n",
    "        'batch_accuracies': [],\n",
    "        'batch_f1_scores': []\n",
    "    }\n",
    "    progress_bar = tqdm(dataloader, desc='Training')\n",
    "\n",
    "    for batch_idx, batch in enumerate(progress_bar):\n",
    "        input_ids = batch['input_ids'].to(device)\n",
    "        attention_mask = batch['attention_mask'].to(device)\n",
    "        labels = batch['target'].to(device)\n",
    "\n",
    "        optimizer.zero_grad()\n",
    "\n",
    "        outputs = model(input_ids=input_ids, attention_mask=attention_mask)\n",
    "        loss = criterion(outputs, labels)\n",
    "        loss.backward()\n",
    "        optimizer.step()\n",
    "\n",
    "        accuracy, f1, preds = calculate_metrics(outputs, labels)\n",
    "\n",
    "        # 배치별 결과 저장\n",
    "        training_history['batch_losses'].append(loss.item())\n",
    "        training_history['input_ids'].append(input_ids.cpu().numpy())\n",
    "        training_history['labels'].append(labels.cpu().numpy())\n",
    "        training_history['outputs'].append(outputs.detach().cpu().numpy())\n",
    "        training_history['predictions'].append(preds)\n",
    "        training_history['batch_accuracies'].append(accuracy)\n",
    "        training_history['batch_f1_scores'].append(f1)\n",
    "\n",
    "        total_loss += loss.item()\n",
    "        progress_bar.set_postfix({\n",
    "            'batch': f'{batch_idx}/{len(dataloader)}',\n",
    "            'loss': f'{loss.item():.4f}',\n",
    "            'acc': f'{accuracy:.4f}',\n",
    "            'f1': f'{f1:.4f}'\n",
    "        })\n",
    "\n",
    "    avg_loss = total_loss / len(dataloader)\n",
    "    all_labels = np.concatenate(training_history['labels'])\n",
    "    all_preds = np.concatenate(training_history['predictions'])\n",
    "\n",
    "    final_accuracy, final_f1, _ = calculate_metrics(\n",
    "        torch.tensor(all_preds),\n",
    "        torch.tensor(all_labels)\n",
    "    )\n",
    "\n",
    "    training_history['epoch_avg_loss'] = avg_loss\n",
    "    training_history['epoch_accuracy'] = final_accuracy\n",
    "    training_history['epoch_f1'] = final_f1\n",
    "\n",
    "    return avg_loss, final_accuracy, final_f1, training_history\n",
    "\n",
    "def evaluate(model, dataloader, criterion, device):\n",
    "    model.eval()\n",
    "    total_loss = 0\n",
    "    validation_history = {\n",
    "        'batch_losses': [],\n",
    "        'input_ids': [],\n",
    "        'labels': [],\n",
    "        'outputs': [],\n",
    "        'predictions': [],\n",
    "        'batch_accuracies': [],\n",
    "        'batch_f1_scores': []\n",
    "    }\n",
    "    progress_bar = tqdm(dataloader, desc='Validating')\n",
    "\n",
    "    with torch.no_grad():\n",
    "        for batch_idx, batch in enumerate(progress_bar):\n",
    "            input_ids = batch['input_ids'].to(device)\n",
    "            attention_mask = batch['attention_mask'].to(device)\n",
    "            labels = batch['target'].to(device)\n",
    "\n",
    "            outputs = model(input_ids=input_ids, attention_mask=attention_mask)\n",
    "            loss = criterion(outputs, labels)\n",
    "\n",
    "            accuracy, f1, preds = calculate_metrics(outputs, labels)\n",
    "\n",
    "            # 배치별 결과 저장\n",
    "            validation_history['batch_losses'].append(loss.item())\n",
    "            validation_history['input_ids'].append(input_ids.cpu().numpy())\n",
    "            validation_history['labels'].append(labels.cpu().numpy())\n",
    "            validation_history['outputs'].append(outputs.detach().cpu().numpy())\n",
    "            validation_history['predictions'].append(preds)\n",
    "            validation_history['batch_accuracies'].append(accuracy)\n",
    "            validation_history['batch_f1_scores'].append(f1)\n",
    "\n",
    "            total_loss += loss.item()\n",
    "            progress_bar.set_postfix({\n",
    "                'batch': f'{batch_idx}/{len(dataloader)}',\n",
    "                'loss': f'{loss.item():.4f}',\n",
    "                'acc': f'{accuracy:.4f}',\n",
    "                'f1': f'{f1:.4f}'\n",
    "            })\n",
    "\n",
    "    avg_loss = total_loss / len(dataloader)\n",
    "    all_labels = np.concatenate(validation_history['labels'])\n",
    "    all_preds = np.concatenate(validation_history['predictions'])\n",
    "\n",
    "    final_accuracy, final_f1, _ = calculate_metrics(\n",
    "        torch.tensor(all_preds),\n",
    "        torch.tensor(all_labels)\n",
    "    )\n",
    "\n",
    "    validation_history['epoch_avg_loss'] = avg_loss\n",
    "    validation_history['epoch_accuracy'] = final_accuracy\n",
    "    validation_history['epoch_f1'] = final_f1\n",
    "\n",
    "    return avg_loss, final_accuracy, final_f1, validation_history\n"
   ]
  },
  {
   "cell_type": "code",
   "execution_count": 16,
   "id": "2c1ddbcd",
   "metadata": {
    "executionInfo": {
     "elapsed": 5,
     "status": "ok",
     "timestamp": 1731306427665,
     "user": {
      "displayName": "김범준",
      "userId": "10258325934353931526"
     },
     "user_tz": -540
    },
    "id": "2c1ddbcd"
   },
   "outputs": [],
   "source": [
    "import warnings\n",
    "warnings.filterwarnings(\"ignore\", category=FutureWarning)"
   ]
  },
  {
   "cell_type": "code",
   "execution_count": null,
   "id": "03188b7d",
   "metadata": {
    "colab": {
     "background_save": true,
     "base_uri": "https://localhost:8080/"
    },
    "id": "03188b7d"
   },
   "outputs": [
    {
     "name": "stdout",
     "output_type": "stream",
     "text": [
      "\n",
      "Epoch 1/20\n"
     ]
    },
    {
     "name": "stderr",
     "output_type": "stream",
     "text": [
      "Training: 100%|██████████| 994/994 [22:03<00:00,  1.33s/it, batch=993/994, loss=0.5524, acc=0.8784, f1=0.8851]\n",
      "Validating: 100%|██████████| 125/125 [01:02<00:00,  2.00it/s, batch=124/125, loss=0.1701, acc=0.9600, f1=0.9796]\n"
     ]
    },
    {
     "name": "stdout",
     "output_type": "stream",
     "text": [
      "Training - Loss: 0.7067, Accuracy: 0.8030, F1: 0.8237\n",
      "Validation - Loss: 0.3365, Accuracy: 0.8809, F1: 0.8860\n",
      "New best model saved with validation F1: 0.8860\n",
      "\n",
      "Epoch 2/20\n"
     ]
    },
    {
     "name": "stderr",
     "output_type": "stream",
     "text": [
      "Training: 100%|██████████| 994/994 [22:11<00:00,  1.34s/it, batch=993/994, loss=0.2573, acc=0.9324, f1=0.9350]\n",
      "Validating: 100%|██████████| 125/125 [01:02<00:00,  1.99it/s, batch=124/125, loss=0.1584, acc=0.9600, f1=0.9796]\n"
     ]
    },
    {
     "name": "stdout",
     "output_type": "stream",
     "text": [
      "Training - Loss: 0.5318, Accuracy: 0.8670, F1: 0.8802\n",
      "Validation - Loss: 0.3099, Accuracy: 0.8905, F1: 0.8953\n",
      "New best model saved with validation F1: 0.8953\n",
      "\n",
      "Epoch 3/20\n"
     ]
    },
    {
     "name": "stderr",
     "output_type": "stream",
     "text": [
      "Training: 100%|██████████| 994/994 [22:16<00:00,  1.34s/it, batch=993/994, loss=0.7220, acc=0.8514, f1=0.8490]\n",
      "Validating: 100%|██████████| 125/125 [01:03<00:00,  1.98it/s, batch=124/125, loss=0.2677, acc=0.8400, f1=0.9130]\n"
     ]
    },
    {
     "name": "stdout",
     "output_type": "stream",
     "text": [
      "Training - Loss: 0.4688, Accuracy: 0.8802, F1: 0.8911\n",
      "Validation - Loss: 0.3435, Accuracy: 0.8745, F1: 0.8862\n",
      "\n",
      "Epoch 4/20\n"
     ]
    },
    {
     "name": "stderr",
     "output_type": "stream",
     "text": [
      "Training: 100%|██████████| 994/994 [22:18<00:00,  1.35s/it, batch=993/994, loss=0.6785, acc=0.8514, f1=0.8593]\n",
      "Validating: 100%|██████████| 125/125 [01:03<00:00,  1.98it/s, batch=124/125, loss=0.4114, acc=0.8400, f1=0.9130]\n"
     ]
    },
    {
     "name": "stdout",
     "output_type": "stream",
     "text": [
      "Training - Loss: 0.4076, Accuracy: 0.8926, F1: 0.9012\n",
      "Validation - Loss: 0.3068, Accuracy: 0.8875, F1: 0.8963\n",
      "New best model saved with validation F1: 0.8963\n",
      "\n",
      "Epoch 5/20\n"
     ]
    },
    {
     "name": "stderr",
     "output_type": "stream",
     "text": [
      "Training: 100%|██████████| 994/994 [22:18<00:00,  1.35s/it, batch=993/994, loss=0.4272, acc=0.7973, f1=0.8166]\n",
      "Validating: 100%|██████████| 125/125 [01:03<00:00,  1.98it/s, batch=124/125, loss=0.3265, acc=0.8800, f1=0.9362]\n"
     ]
    },
    {
     "name": "stdout",
     "output_type": "stream",
     "text": [
      "Training - Loss: 0.3480, Accuracy: 0.9040, F1: 0.9108\n",
      "Validation - Loss: 0.3873, Accuracy: 0.8624, F1: 0.8771\n",
      "\n",
      "Epoch 6/20\n"
     ]
    },
    {
     "name": "stderr",
     "output_type": "stream",
     "text": [
      "Training: 100%|██████████| 994/994 [22:17<00:00,  1.35s/it, batch=993/994, loss=0.2708, acc=0.9459, f1=0.9569]\n",
      "Validating: 100%|██████████| 125/125 [01:02<00:00,  1.99it/s, batch=124/125, loss=0.4668, acc=0.8800, f1=0.9362]\n"
     ]
    },
    {
     "name": "stdout",
     "output_type": "stream",
     "text": [
      "Training - Loss: 0.2951, Accuracy: 0.9152, F1: 0.9204\n",
      "Validation - Loss: 0.3392, Accuracy: 0.8814, F1: 0.8895\n",
      "\n",
      "Epoch 7/20\n"
     ]
    },
    {
     "name": "stderr",
     "output_type": "stream",
     "text": [
      "Training: 100%|██████████| 994/994 [22:16<00:00,  1.34s/it, batch=993/994, loss=0.2998, acc=0.9054, f1=0.9127]\n",
      "Validating: 100%|██████████| 125/125 [01:02<00:00,  1.99it/s, batch=124/125, loss=0.3589, acc=0.9200, f1=0.9583]\n"
     ]
    },
    {
     "name": "stdout",
     "output_type": "stream",
     "text": [
      "Training - Loss: 0.2413, Accuracy: 0.9258, F1: 0.9295\n",
      "Validation - Loss: 0.3462, Accuracy: 0.8871, F1: 0.8953\n",
      "\n",
      "Epoch 8/20\n"
     ]
    },
    {
     "name": "stderr",
     "output_type": "stream",
     "text": [
      "Training: 100%|██████████| 994/994 [22:16<00:00,  1.34s/it, batch=993/994, loss=0.5639, acc=0.9189, f1=0.9294]\n",
      "Validating: 100%|██████████| 125/125 [01:02<00:00,  1.99it/s, batch=124/125, loss=0.4904, acc=0.8400, f1=0.9130]\n"
     ]
    },
    {
     "name": "stdout",
     "output_type": "stream",
     "text": [
      "Training - Loss: 0.2040, Accuracy: 0.9338, F1: 0.9367\n",
      "Validation - Loss: 0.3383, Accuracy: 0.8950, F1: 0.8993\n",
      "New best model saved with validation F1: 0.8993\n",
      "\n",
      "Epoch 9/20\n"
     ]
    },
    {
     "name": "stderr",
     "output_type": "stream",
     "text": [
      "Training: 100%|██████████| 994/994 [22:16<00:00,  1.34s/it, batch=993/994, loss=0.2992, acc=0.9189, f1=0.9254]\n",
      "Validating: 100%|██████████| 125/125 [01:03<00:00,  1.98it/s, batch=124/125, loss=0.5776, acc=0.8400, f1=0.9130]\n"
     ]
    },
    {
     "name": "stdout",
     "output_type": "stream",
     "text": [
      "Training - Loss: 0.1737, Accuracy: 0.9409, F1: 0.9432\n",
      "Validation - Loss: 0.3553, Accuracy: 0.8957, F1: 0.9015\n",
      "New best model saved with validation F1: 0.9015\n",
      "\n",
      "Epoch 10/20\n"
     ]
    },
    {
     "name": "stderr",
     "output_type": "stream",
     "text": [
      "Training: 100%|██████████| 994/994 [22:16<00:00,  1.35s/it, batch=993/994, loss=0.1089, acc=0.9459, f1=0.9489]\n",
      "Validating: 100%|██████████| 125/125 [01:02<00:00,  1.99it/s, batch=124/125, loss=0.8259, acc=0.8000, f1=0.8889]\n"
     ]
    },
    {
     "name": "stdout",
     "output_type": "stream",
     "text": [
      "Training - Loss: 0.1458, Accuracy: 0.9473, F1: 0.9492\n",
      "Validation - Loss: 0.3968, Accuracy: 0.8856, F1: 0.8925\n",
      "\n",
      "Epoch 11/20\n"
     ]
    },
    {
     "name": "stderr",
     "output_type": "stream",
     "text": [
      "Training: 100%|██████████| 994/994 [22:17<00:00,  1.35s/it, batch=993/994, loss=0.1463, acc=0.9459, f1=0.9541]\n",
      "Validating: 100%|██████████| 125/125 [01:03<00:00,  1.98it/s, batch=124/125, loss=0.8078, acc=0.8400, f1=0.9130]\n"
     ]
    },
    {
     "name": "stdout",
     "output_type": "stream",
     "text": [
      "Training - Loss: 0.1314, Accuracy: 0.9504, F1: 0.9520\n",
      "Validation - Loss: 0.4263, Accuracy: 0.8848, F1: 0.8948\n",
      "\n",
      "Epoch 12/20\n"
     ]
    },
    {
     "name": "stderr",
     "output_type": "stream",
     "text": [
      "Training: 100%|██████████| 994/994 [22:17<00:00,  1.35s/it, batch=993/994, loss=0.2757, acc=0.9324, f1=0.9368]\n",
      "Validating: 100%|██████████| 125/125 [01:02<00:00,  1.99it/s, batch=124/125, loss=0.8680, acc=0.7600, f1=0.8636]\n"
     ]
    },
    {
     "name": "stdout",
     "output_type": "stream",
     "text": [
      "Training - Loss: 0.1174, Accuracy: 0.9548, F1: 0.9561\n",
      "Validation - Loss: 0.4058, Accuracy: 0.8883, F1: 0.8943\n",
      "\n",
      "Epoch 13/20\n"
     ]
    },
    {
     "name": "stderr",
     "output_type": "stream",
     "text": [
      "Training: 100%|██████████| 994/994 [22:18<00:00,  1.35s/it, batch=993/994, loss=0.0604, acc=0.9595, f1=0.9602]\n",
      "Validating: 100%|██████████| 125/125 [01:03<00:00,  1.98it/s, batch=124/125, loss=0.4336, acc=0.8800, f1=0.9362]\n"
     ]
    },
    {
     "name": "stdout",
     "output_type": "stream",
     "text": [
      "Training - Loss: 0.1035, Accuracy: 0.9584, F1: 0.9596\n",
      "Validation - Loss: 0.3814, Accuracy: 0.9014, F1: 0.9032\n",
      "New best model saved with validation F1: 0.9032\n",
      "\n",
      "Epoch 14/20\n"
     ]
    },
    {
     "name": "stderr",
     "output_type": "stream",
     "text": [
      "Training: 100%|██████████| 994/994 [22:18<00:00,  1.35s/it, batch=993/994, loss=0.0817, acc=0.9595, f1=0.9619]\n",
      "Validating: 100%|██████████| 125/125 [01:03<00:00,  1.98it/s, batch=124/125, loss=1.0933, acc=0.7200, f1=0.8372]\n"
     ]
    },
    {
     "name": "stdout",
     "output_type": "stream",
     "text": [
      "Training - Loss: 0.1001, Accuracy: 0.9611, F1: 0.9621\n",
      "Validation - Loss: 0.3930, Accuracy: 0.8990, F1: 0.9021\n",
      "\n",
      "Epoch 15/20\n"
     ]
    },
    {
     "name": "stderr",
     "output_type": "stream",
     "text": [
      "Training: 100%|██████████| 994/994 [22:19<00:00,  1.35s/it, batch=993/994, loss=0.0442, acc=0.9865, f1=0.9866]\n",
      "Validating: 100%|██████████| 125/125 [01:03<00:00,  1.98it/s, batch=124/125, loss=0.7865, acc=0.8000, f1=0.8889]\n"
     ]
    },
    {
     "name": "stdout",
     "output_type": "stream",
     "text": [
      "Training - Loss: 0.0852, Accuracy: 0.9652, F1: 0.9661\n",
      "Validation - Loss: 0.3992, Accuracy: 0.9033, F1: 0.9048\n",
      "New best model saved with validation F1: 0.9048\n",
      "\n",
      "Epoch 16/20\n"
     ]
    },
    {
     "name": "stderr",
     "output_type": "stream",
     "text": [
      "Training: 100%|██████████| 994/994 [22:19<00:00,  1.35s/it, batch=993/994, loss=0.2315, acc=0.9595, f1=0.9586]\n",
      "Validating: 100%|██████████| 125/125 [01:03<00:00,  1.98it/s, batch=124/125, loss=0.4902, acc=0.8800, f1=0.9362]\n"
     ]
    },
    {
     "name": "stdout",
     "output_type": "stream",
     "text": [
      "Training - Loss: 0.0812, Accuracy: 0.9664, F1: 0.9672\n",
      "Validation - Loss: 0.4029, Accuracy: 0.9044, F1: 0.9057\n",
      "New best model saved with validation F1: 0.9057\n",
      "\n",
      "Epoch 17/20\n"
     ]
    },
    {
     "name": "stderr",
     "output_type": "stream",
     "text": [
      "Training: 100%|██████████| 994/994 [22:20<00:00,  1.35s/it, batch=993/994, loss=0.0135, acc=0.9865, f1=0.9878]\n",
      "Validating: 100%|██████████| 125/125 [01:03<00:00,  1.97it/s, batch=124/125, loss=0.5323, acc=0.8800, f1=0.9362]\n"
     ]
    },
    {
     "name": "stdout",
     "output_type": "stream",
     "text": [
      "Training - Loss: 0.0726, Accuracy: 0.9691, F1: 0.9698\n",
      "Validation - Loss: 0.4129, Accuracy: 0.9096, F1: 0.9104\n",
      "New best model saved with validation F1: 0.9104\n",
      "\n",
      "Epoch 18/20\n"
     ]
    },
    {
     "name": "stderr",
     "output_type": "stream",
     "text": [
      "Training: 100%|██████████| 994/994 [22:21<00:00,  1.35s/it, batch=993/994, loss=0.0294, acc=0.9730, f1=0.9744]\n",
      "Validating: 100%|██████████| 125/125 [01:03<00:00,  1.97it/s, batch=124/125, loss=0.8015, acc=0.8800, f1=0.9362]\n"
     ]
    },
    {
     "name": "stdout",
     "output_type": "stream",
     "text": [
      "Training - Loss: 0.0671, Accuracy: 0.9724, F1: 0.9730\n",
      "Validation - Loss: 0.4472, Accuracy: 0.8996, F1: 0.9015\n",
      "\n",
      "Epoch 19/20\n"
     ]
    },
    {
     "name": "stderr",
     "output_type": "stream",
     "text": [
      "Training: 100%|██████████| 994/994 [22:21<00:00,  1.35s/it, batch=993/994, loss=0.0037, acc=1.0000, f1=1.0000]\n",
      "Validating: 100%|██████████| 125/125 [01:03<00:00,  1.97it/s, batch=124/125, loss=0.8050, acc=0.8000, f1=0.8889]\n"
     ]
    },
    {
     "name": "stdout",
     "output_type": "stream",
     "text": [
      "Training - Loss: 0.0633, Accuracy: 0.9735, F1: 0.9740\n",
      "Validation - Loss: 0.4337, Accuracy: 0.9040, F1: 0.9059\n",
      "\n",
      "Epoch 20/20\n"
     ]
    },
    {
     "name": "stderr",
     "output_type": "stream",
     "text": [
      "Training: 100%|██████████| 994/994 [22:22<00:00,  1.35s/it, batch=993/994, loss=0.0114, acc=1.0000, f1=1.0000]\n",
      "Validating: 100%|██████████| 125/125 [01:03<00:00,  1.97it/s, batch=124/125, loss=0.6264, acc=0.8000, f1=0.8889]"
     ]
    },
    {
     "name": "stdout",
     "output_type": "stream",
     "text": [
      "Training - Loss: 0.0568, Accuracy: 0.9751, F1: 0.9756\n",
      "Validation - Loss: 0.4592, Accuracy: 0.8986, F1: 0.9009\n"
     ]
    },
    {
     "name": "stderr",
     "output_type": "stream",
     "text": [
      "\n"
     ]
    }
   ],
   "source": [
    "# 메인 학습 루프\n",
    "best_f1 = 0\n",
    "history = {\n",
    "    'train_history': [],\n",
    "    'val_history': [],\n",
    "    'epochs': []\n",
    "}\n",
    "\n",
    "for epoch in range(n_epochs):\n",
    "    print(f'\\nEpoch {epoch + 1}/{n_epochs}')\n",
    "\n",
    "    # Training phase\n",
    "    train_loss, train_acc, train_f1, train_history = train_epoch(\n",
    "        model=model,\n",
    "        dataloader=train_loader,\n",
    "        optimizer=optimizer,\n",
    "        criterion=train_criterion,\n",
    "        device=device\n",
    "    )\n",
    "\n",
    "    # Validation phase\n",
    "    val_loss, val_acc, val_f1, val_history = evaluate(\n",
    "        model=model,\n",
    "        dataloader=valid_loader,\n",
    "        criterion=eval_criterion,\n",
    "        device=device\n",
    "    )\n",
    "\n",
    "    # 에폭별 히스토리 저장\n",
    "    history['train_history'].append(train_history)\n",
    "    history['val_history'].append(val_history)\n",
    "    history['epochs'].append({\n",
    "        'train_loss': train_loss,\n",
    "        'train_acc': train_acc,\n",
    "        'train_f1': train_f1,\n",
    "        'val_loss': val_loss,\n",
    "        'val_acc': val_acc,\n",
    "        'val_f1': val_f1,\n",
    "        'epoch_num': epoch + 1\n",
    "    })\n",
    "\n",
    "    print(f'Training - Loss: {train_loss:.4f}, Accuracy: {train_acc:.4f}, F1: {train_f1:.4f}')\n",
    "    print(f'Validation - Loss: {val_loss:.4f}, Accuracy: {val_acc:.4f}, F1: {val_f1:.4f}')\n",
    "\n",
    "    # Save best model\n",
    "    if val_f1 > best_f1:\n",
    "        best_f1 = val_f1\n",
    "        torch.save({\n",
    "            'epoch': epoch + 1,\n",
    "            'model_state_dict': model.state_dict(),\n",
    "            'optimizer_state_dict': optimizer.state_dict(),\n",
    "            'train_history': train_history,\n",
    "            'val_history': val_history,\n",
    "            'best_f1': best_f1\n",
    "        }, 'best_model.pt')\n",
    "        print(f'New best model saved with validation F1: {val_f1:.4f}')"
   ]
  },
  {
   "cell_type": "code",
   "execution_count": null,
   "id": "a1e41d9f",
   "metadata": {
    "colab": {
     "background_save": true
    },
    "id": "a1e41d9f"
   },
   "outputs": [
    {
     "data": {
      "image/png": "[encoded data removed]",
      "text/plain": [
       "<Figure size 1500x500 with 3 Axes>"
      ]
     },
     "metadata": {},
     "output_type": "display_data"
    },
    {
     "ename": "OSError",
     "evalue": "'seaborn' is not a valid package style, path of style file, URL of style file, or library style name (library styles are listed in `style.available`)",
     "output_type": "error",
     "traceback": [
      "\u001b[0;31m---------------------------------------------------------------------------\u001b[0m",
      "\u001b[0;31mFileNotFoundError\u001b[0m                         Traceback (most recent call last)",
      "\u001b[0;32m/usr/local/lib/python3.10/dist-packages/matplotlib/style/core.py\u001b[0m in \u001b[0;36muse\u001b[0;34m(style)\u001b[0m\n\u001b[1;32m    136\u001b[0m             \u001b[0;32mtry\u001b[0m\u001b[0;34m:\u001b[0m\u001b[0;34m\u001b[0m\u001b[0;34m\u001b[0m\u001b[0m\n\u001b[0;32m--> 137\u001b[0;31m                 \u001b[0mstyle\u001b[0m \u001b[0;34m=\u001b[0m \u001b[0m_rc_params_in_file\u001b[0m\u001b[0;34m(\u001b[0m\u001b[0mstyle\u001b[0m\u001b[0;34m)\u001b[0m\u001b[0;34m\u001b[0m\u001b[0;34m\u001b[0m\u001b[0m\n\u001b[0m\u001b[1;32m    138\u001b[0m             \u001b[0;32mexcept\u001b[0m \u001b[0mOSError\u001b[0m \u001b[0;32mas\u001b[0m \u001b[0merr\u001b[0m\u001b[0;34m:\u001b[0m\u001b[0;34m\u001b[0m\u001b[0;34m\u001b[0m\u001b[0m\n",
      "\u001b[0;32m/usr/local/lib/python3.10/dist-packages/matplotlib/__init__.py\u001b[0m in \u001b[0;36m_rc_params_in_file\u001b[0;34m(fname, transform, fail_on_error)\u001b[0m\n\u001b[1;32m    865\u001b[0m     \u001b[0mrc_temp\u001b[0m \u001b[0;34m=\u001b[0m \u001b[0;34m{\u001b[0m\u001b[0;34m}\u001b[0m\u001b[0;34m\u001b[0m\u001b[0;34m\u001b[0m\u001b[0m\n\u001b[0;32m--> 866\u001b[0;31m     \u001b[0;32mwith\u001b[0m \u001b[0m_open_file_or_url\u001b[0m\u001b[0;34m(\u001b[0m\u001b[0mfname\u001b[0m\u001b[0;34m)\u001b[0m \u001b[0;32mas\u001b[0m \u001b[0mfd\u001b[0m\u001b[0;34m:\u001b[0m\u001b[0;34m\u001b[0m\u001b[0;34m\u001b[0m\u001b[0m\n\u001b[0m\u001b[1;32m    867\u001b[0m         \u001b[0;32mtry\u001b[0m\u001b[0;34m:\u001b[0m\u001b[0;34m\u001b[0m\u001b[0;34m\u001b[0m\u001b[0m\n",
      "\u001b[0;32m/usr/lib/python3.10/contextlib.py\u001b[0m in \u001b[0;36m__enter__\u001b[0;34m(self)\u001b[0m\n\u001b[1;32m    134\u001b[0m         \u001b[0;32mtry\u001b[0m\u001b[0;34m:\u001b[0m\u001b[0;34m\u001b[0m\u001b[0;34m\u001b[0m\u001b[0m\n\u001b[0;32m--> 135\u001b[0;31m             \u001b[0;32mreturn\u001b[0m \u001b[0mnext\u001b[0m\u001b[0;34m(\u001b[0m\u001b[0mself\u001b[0m\u001b[0;34m.\u001b[0m\u001b[0mgen\u001b[0m\u001b[0;34m)\u001b[0m\u001b[0;34m\u001b[0m\u001b[0;34m\u001b[0m\u001b[0m\n\u001b[0m\u001b[1;32m    136\u001b[0m         \u001b[0;32mexcept\u001b[0m \u001b[0mStopIteration\u001b[0m\u001b[0;34m:\u001b[0m\u001b[0;34m\u001b[0m\u001b[0;34m\u001b[0m\u001b[0m\n",
      "\u001b[0;32m/usr/local/lib/python3.10/dist-packages/matplotlib/__init__.py\u001b[0m in \u001b[0;36m_open_file_or_url\u001b[0;34m(fname)\u001b[0m\n\u001b[1;32m    842\u001b[0m         \u001b[0mfname\u001b[0m \u001b[0;34m=\u001b[0m \u001b[0mos\u001b[0m\u001b[0;34m.\u001b[0m\u001b[0mpath\u001b[0m\u001b[0;34m.\u001b[0m\u001b[0mexpanduser\u001b[0m\u001b[0;34m(\u001b[0m\u001b[0mfname\u001b[0m\u001b[0;34m)\u001b[0m\u001b[0;34m\u001b[0m\u001b[0;34m\u001b[0m\u001b[0m\n\u001b[0;32m--> 843\u001b[0;31m         \u001b[0;32mwith\u001b[0m \u001b[0mopen\u001b[0m\u001b[0;34m(\u001b[0m\u001b[0mfname\u001b[0m\u001b[0;34m,\u001b[0m \u001b[0mencoding\u001b[0m\u001b[0;34m=\u001b[0m\u001b[0;34m'utf-8'\u001b[0m\u001b[0;34m)\u001b[0m \u001b[0;32mas\u001b[0m \u001b[0mf\u001b[0m\u001b[0;34m:\u001b[0m\u001b[0;34m\u001b[0m\u001b[0;34m\u001b[0m\u001b[0m\n\u001b[0m\u001b[1;32m    844\u001b[0m             \u001b[0;32myield\u001b[0m \u001b[0mf\u001b[0m\u001b[0;34m\u001b[0m\u001b[0;34m\u001b[0m\u001b[0m\n",
      "\u001b[0;31mFileNotFoundError\u001b[0m: [Errno 2] No such file or directory: 'seaborn'",
      "\nThe above exception was the direct cause of the following exception:\n",
      "\u001b[0;31mOSError\u001b[0m                                   Traceback (most recent call last)",
      "\u001b[0;32m<ipython-input-18-f43fab06b7e6>\u001b[0m in \u001b[0;36m<cell line: 116>\u001b[0;34m()\u001b[0m\n\u001b[1;32m    114\u001b[0m \u001b[0;34m\u001b[0m\u001b[0m\n\u001b[1;32m    115\u001b[0m \u001b[0;31m# 2. 배치별 상세 loss 그래프\u001b[0m\u001b[0;34m\u001b[0m\u001b[0;34m\u001b[0m\u001b[0m\n\u001b[0;32m--> 116\u001b[0;31m \u001b[0mplot_detailed_losses\u001b[0m\u001b[0;34m(\u001b[0m\u001b[0mhistory\u001b[0m\u001b[0;34m)\u001b[0m\u001b[0;34m\u001b[0m\u001b[0;34m\u001b[0m\u001b[0m\n\u001b[0m",
      "\u001b[0;32m<ipython-input-18-f43fab06b7e6>\u001b[0m in \u001b[0;36mplot_detailed_losses\u001b[0;34m(history)\u001b[0m\n\u001b[1;32m     46\u001b[0m \u001b[0;34m\u001b[0m\u001b[0m\n\u001b[1;32m     47\u001b[0m \u001b[0;32mdef\u001b[0m \u001b[0mplot_detailed_losses\u001b[0m\u001b[0;34m(\u001b[0m\u001b[0mhistory\u001b[0m\u001b[0;34m)\u001b[0m\u001b[0;34m:\u001b[0m\u001b[0;34m\u001b[0m\u001b[0;34m\u001b[0m\u001b[0m\n\u001b[0;32m---> 48\u001b[0;31m     \u001b[0mplt\u001b[0m\u001b[0;34m.\u001b[0m\u001b[0mstyle\u001b[0m\u001b[0;34m.\u001b[0m\u001b[0muse\u001b[0m\u001b[0;34m(\u001b[0m\u001b[0;34m'seaborn'\u001b[0m\u001b[0;34m)\u001b[0m\u001b[0;34m\u001b[0m\u001b[0;34m\u001b[0m\u001b[0m\n\u001b[0m\u001b[1;32m     49\u001b[0m     \u001b[0mfig\u001b[0m\u001b[0;34m,\u001b[0m \u001b[0;34m(\u001b[0m\u001b[0max1\u001b[0m\u001b[0;34m,\u001b[0m \u001b[0max2\u001b[0m\u001b[0;34m)\u001b[0m \u001b[0;34m=\u001b[0m \u001b[0mplt\u001b[0m\u001b[0;34m.\u001b[0m\u001b[0msubplots\u001b[0m\u001b[0;34m(\u001b[0m\u001b[0;36m2\u001b[0m\u001b[0;34m,\u001b[0m \u001b[0;36m1\u001b[0m\u001b[0;34m,\u001b[0m \u001b[0mfigsize\u001b[0m\u001b[0;34m=\u001b[0m\u001b[0;34m(\u001b[0m\u001b[0;36m15\u001b[0m\u001b[0;34m,\u001b[0m \u001b[0;36m10\u001b[0m\u001b[0;34m)\u001b[0m\u001b[0;34m)\u001b[0m\u001b[0;34m\u001b[0m\u001b[0;34m\u001b[0m\u001b[0m\n\u001b[1;32m     50\u001b[0m \u001b[0;34m\u001b[0m\u001b[0m\n",
      "\u001b[0;32m/usr/local/lib/python3.10/dist-packages/matplotlib/style/core.py\u001b[0m in \u001b[0;36muse\u001b[0;34m(style)\u001b[0m\n\u001b[1;32m    137\u001b[0m                 \u001b[0mstyle\u001b[0m \u001b[0;34m=\u001b[0m \u001b[0m_rc_params_in_file\u001b[0m\u001b[0;34m(\u001b[0m\u001b[0mstyle\u001b[0m\u001b[0;34m)\u001b[0m\u001b[0;34m\u001b[0m\u001b[0;34m\u001b[0m\u001b[0m\n\u001b[1;32m    138\u001b[0m             \u001b[0;32mexcept\u001b[0m \u001b[0mOSError\u001b[0m \u001b[0;32mas\u001b[0m \u001b[0merr\u001b[0m\u001b[0;34m:\u001b[0m\u001b[0;34m\u001b[0m\u001b[0;34m\u001b[0m\u001b[0m\n\u001b[0;32m--> 139\u001b[0;31m                 raise OSError(\n\u001b[0m\u001b[1;32m    140\u001b[0m                     \u001b[0;34mf\"{style!r} is not a valid package style, path of style \"\u001b[0m\u001b[0;34m\u001b[0m\u001b[0;34m\u001b[0m\u001b[0m\n\u001b[1;32m    141\u001b[0m                     \u001b[0;34mf\"file, URL of style file, or library style name (library \"\u001b[0m\u001b[0;34m\u001b[0m\u001b[0;34m\u001b[0m\u001b[0m\n",
      "\u001b[0;31mOSError\u001b[0m: 'seaborn' is not a valid package style, path of style file, URL of style file, or library style name (library styles are listed in `style.available`)"
     ]
    }
   ],
   "source": [
    "import matplotlib.pyplot as plt\n",
    "\n",
    "def plot_training_metrics(history):\n",
    "    epochs = [epoch['epoch_num'] for epoch in history['epochs']]\n",
    "\n",
    "    # 메트릭 데이터 추출\n",
    "    train_loss = [epoch['train_loss'] for epoch in history['epochs']]\n",
    "    val_loss = [epoch['val_loss'] for epoch in history['epochs']]\n",
    "    train_acc = [epoch['train_acc'] for epoch in history['epochs']]\n",
    "    val_acc = [epoch['val_acc'] for epoch in history['epochs']]\n",
    "    train_f1 = [epoch['train_f1'] for epoch in history['epochs']]\n",
    "    val_f1 = [epoch['val_f1'] for epoch in history['epochs']]\n",
    "\n",
    "    # 그래프 생성\n",
    "    fig, (ax1, ax2, ax3) = plt.subplots(1, 3, figsize=(15, 5))\n",
    "\n",
    "    # Loss plot\n",
    "    ax1.plot(epochs, train_loss, 'b-', label='Training Loss')\n",
    "    ax1.plot(epochs, val_loss, 'r-', label='Validation Loss')\n",
    "    ax1.set_title('Loss over epochs')\n",
    "    ax1.set_xlabel('Epoch')\n",
    "    ax1.set_ylabel('Loss')\n",
    "    ax1.legend()\n",
    "    ax1.grid(True)\n",
    "\n",
    "    # Accuracy plot\n",
    "    ax2.plot(epochs, train_acc, 'b-', label='Training Accuracy')\n",
    "    ax2.plot(epochs, val_acc, 'r-', label='Validation Accuracy')\n",
    "    ax2.set_title('Accuracy over epochs')\n",
    "    ax2.set_xlabel('Epoch')\n",
    "    ax2.set_ylabel('Accuracy')\n",
    "    ax2.legend()\n",
    "    ax2.grid(True)\n",
    "\n",
    "    # F1 Score plot\n",
    "    ax3.plot(epochs, train_f1, 'b-', label='Training F1')\n",
    "    ax3.plot(epochs, val_f1, 'r-', label='Validation F1')\n",
    "    ax3.set_title('F1 Score over epochs')\n",
    "    ax3.set_xlabel('Epoch')\n",
    "    ax3.set_ylabel('F1 Score')\n",
    "    ax3.legend()\n",
    "    ax3.grid(True)\n",
    "\n",
    "    plt.tight_layout()\n",
    "    plt.show()\n",
    "\n",
    "def plot_detailed_losses(history):\n",
    "    plt.style.use('seaborn')\n",
    "    fig, (ax1, ax2) = plt.subplots(2, 1, figsize=(15, 10))\n",
    "\n",
    "    # Training loss plot\n",
    "    train_batch_losses = []\n",
    "    n_train_batches = len(history['train_history'][0]['batch_losses'])\n",
    "\n",
    "    # 모든 에포크의 training 배치 loss를 연결\n",
    "    for epoch_hist in history['train_history']:\n",
    "        train_batch_losses.extend(epoch_hist['batch_losses'])\n",
    "\n",
    "    train_steps = range(len(train_batch_losses))\n",
    "\n",
    "    # Training loss 그래프\n",
    "    ax1.plot(train_steps, train_batch_losses, 'b-', alpha=0.7, label='Training Loss')\n",
    "\n",
    "    # 에포크 구분선 그리기 (training)\n",
    "    for i in range(len(history['epochs'])):\n",
    "        ax1.axvline(x=i * n_train_batches, color='gray', linestyle='--', alpha=0.3)\n",
    "\n",
    "    # x축 레이블 설정 (training)\n",
    "    epoch_positions = [i * n_train_batches + n_train_batches/2 for i in range(len(history['epochs']))]\n",
    "    epoch_labels = [f'Epoch {i+1}' for i in range(len(history['epochs']))]\n",
    "    ax1.set_xticks(epoch_positions)\n",
    "    ax1.set_xticklabels(epoch_labels)\n",
    "\n",
    "    ax1.set_title('Training Loss per Batch')\n",
    "    ax1.set_xlabel('Epochs')\n",
    "    ax1.set_ylabel('Loss')\n",
    "    ax1.legend()\n",
    "    ax1.grid(True, alpha=0.3)\n",
    "\n",
    "    # Validation loss plot\n",
    "    val_batch_losses = []\n",
    "    n_val_batches = len(history['val_history'][0]['batch_losses'])\n",
    "\n",
    "    # 모든 에포크의 validation 배치 loss를 연결\n",
    "    for epoch_hist in history['val_history']:\n",
    "        val_batch_losses.extend(epoch_hist['batch_losses'])\n",
    "\n",
    "    val_steps = range(len(val_batch_losses))\n",
    "\n",
    "    # Validation loss 그래프\n",
    "    ax2.plot(val_steps, val_batch_losses, 'r-', alpha=0.7, label='Validation Loss')\n",
    "\n",
    "    # 에포크 구분선 그리기 (validation)\n",
    "    for i in range(len(history['epochs'])):\n",
    "        ax2.axvline(x=i * n_val_batches, color='gray', linestyle='--', alpha=0.3)\n",
    "\n",
    "    # x축 레이블 설정 (validation)\n",
    "    val_epoch_positions = [i * n_val_batches + n_val_batches/2 for i in range(len(history['epochs']))]\n",
    "    ax2.set_xticks(val_epoch_positions)\n",
    "    ax2.set_xticklabels(epoch_labels)\n",
    "\n",
    "    ax2.set_title('Validation Loss per Batch')\n",
    "    ax2.set_xlabel('Epochs')\n",
    "    ax2.set_ylabel('Loss')\n",
    "    ax2.legend()\n",
    "    ax2.grid(True, alpha=0.3)\n",
    "\n",
    "    plt.tight_layout()\n",
    "    plt.show()\n",
    "\n",
    "# 모든 그래프 출력\n",
    "# 1. 에포크별 메트릭 그래프\n",
    "plot_training_metrics(history)\n",
    "\n",
    "# 2. 배치별 상세 loss 그래프\n",
    "plot_detailed_losses(history)"
   ]
  },
  {
   "cell_type": "code",
   "execution_count": null,
   "id": "1c554bdb",
   "metadata": {
    "colab": {
     "background_save": true
    },
    "id": "1c554bdb"
   },
   "outputs": [],
   "source": [
    "import plotly.graph_objects as go\n",
    "from plotly.subplots import make_subplots\n",
    "\n",
    "def plot_training_metrics_plotly(history):\n",
    "    # 데이터 추출\n",
    "    epochs = [epoch['epoch_num'] for epoch in history['epochs']]\n",
    "    train_loss = [epoch['train_loss'] for epoch in history['epochs']]\n",
    "    val_loss = [epoch['val_loss'] for epoch in history['epochs']]\n",
    "    train_acc = [epoch['train_acc'] for epoch in history['epochs']]\n",
    "    val_acc = [epoch['val_acc'] for epoch in history['epochs']]\n",
    "    train_f1 = [epoch['train_f1'] for epoch in history['epochs']]\n",
    "    val_f1 = [epoch['val_f1'] for epoch in history['epochs']]\n",
    "\n",
    "    # 서브플롯 생성\n",
    "    fig = make_subplots(rows=1, cols=3,\n",
    "                       subplot_titles=('Loss over epochs',\n",
    "                                     'Accuracy over epochs',\n",
    "                                     'F1 Score over epochs'))\n",
    "\n",
    "    # Loss 플롯\n",
    "    fig.add_trace(\n",
    "        go.Scatter(x=epochs, y=train_loss, name=\"Training Loss\",\n",
    "                  line=dict(color='blue')), row=1, col=1)\n",
    "    fig.add_trace(\n",
    "        go.Scatter(x=epochs, y=val_loss, name=\"Validation Loss\",\n",
    "                  line=dict(color='red')), row=1, col=1)\n",
    "\n",
    "    # Accuracy 플롯\n",
    "    fig.add_trace(\n",
    "        go.Scatter(x=epochs, y=train_acc, name=\"Training Accuracy\",\n",
    "                  line=dict(color='blue')), row=1, col=2)\n",
    "    fig.add_trace(\n",
    "        go.Scatter(x=epochs, y=val_acc, name=\"Validation Accuracy\",\n",
    "                  line=dict(color='red')), row=1, col=2)\n",
    "\n",
    "    # F1 Score 플롯\n",
    "    fig.add_trace(\n",
    "        go.Scatter(x=epochs, y=train_f1, name=\"Training F1\",\n",
    "                  line=dict(color='blue')), row=1, col=3)\n",
    "    fig.add_trace(\n",
    "        go.Scatter(x=epochs, y=val_f1, name=\"Validation F1\",\n",
    "                  line=dict(color='red')), row=1, col=3)\n",
    "\n",
    "    # 레이아웃 업데이트\n",
    "    fig.update_layout(height=400, width=1200,\n",
    "                     showlegend=True,\n",
    "                     template='seaborn')\n",
    "\n",
    "    # x축 레이블 업데이트\n",
    "    fig.update_xaxes(title_text=\"Epoch\", row=1, col=1)\n",
    "    fig.update_xaxes(title_text=\"Epoch\", row=1, col=2)\n",
    "    fig.update_xaxes(title_text=\"Epoch\", row=1, col=3)\n",
    "\n",
    "    # y축 레이블 업데이트\n",
    "    fig.update_yaxes(title_text=\"Loss\", row=1, col=1)\n",
    "    fig.update_yaxes(title_text=\"Accuracy\", row=1, col=2)\n",
    "    fig.update_yaxes(title_text=\"F1 Score\", row=1, col=3)\n",
    "\n",
    "    fig.show()\n",
    "\n",
    "import plotly.graph_objects as go\n",
    "from plotly.subplots import make_subplots\n",
    "\n",
    "\n",
    "def plot_detailed_losses_plotly(history):\n",
    "    # Training loss data\n",
    "    train_batch_losses = []\n",
    "    n_train_batches = len(history['train_history'][0]['batch_losses'])\n",
    "\n",
    "    for epoch_hist in history['train_history']:\n",
    "        train_batch_losses.extend(epoch_hist['batch_losses'])\n",
    "\n",
    "    # 각 배치에 대한 (에포크, 배치번호) 생성\n",
    "    train_batch_labels = []\n",
    "    for epoch in range(len(history['epochs'])):\n",
    "        for batch in range(n_train_batches):\n",
    "            train_batch_labels.append(f'Epoch {epoch+1}, Batch {batch+1}/{n_train_batches}')\n",
    "\n",
    "    # Validation loss data\n",
    "    val_batch_losses = []\n",
    "    n_val_batches = len(history['val_history'][0]['batch_losses'])\n",
    "\n",
    "    for epoch_hist in history['val_history']:\n",
    "        val_batch_losses.extend(epoch_hist['batch_losses'])\n",
    "\n",
    "    # 각 검증 배치에 대한 (에포크, 배치번호) 생성\n",
    "    val_batch_labels = []\n",
    "    for epoch in range(len(history['epochs'])):\n",
    "        for batch in range(n_val_batches):\n",
    "            val_batch_labels.append(f'Epoch {epoch+1}, Batch {batch+1}/{n_val_batches}')\n",
    "\n",
    "    # 서브플롯 생성\n",
    "    fig = make_subplots(\n",
    "        rows=2,\n",
    "        cols=1,\n",
    "        subplot_titles=(\n",
    "            f'Training Loss per Batch ({n_train_batches} batches/epoch)',\n",
    "            f'Validation Loss per Batch ({n_val_batches} batches/epoch)'\n",
    "        ),\n",
    "        vertical_spacing=0.12\n",
    "    )\n",
    "\n",
    "    # Training loss 플롯\n",
    "    fig.add_trace(\n",
    "        go.Scatter(\n",
    "            x=list(range(len(train_batch_losses))),\n",
    "            y=train_batch_losses,\n",
    "            name=\"Training Loss\",\n",
    "            line=dict(color='blue', width=1),\n",
    "            mode='lines',\n",
    "            hovertemplate='%{text}<br>Loss: %{y:.4f}<extra></extra>',\n",
    "            text=train_batch_labels\n",
    "        ),\n",
    "        row=1, col=1\n",
    "    )\n",
    "\n",
    "    # Validation loss 플롯\n",
    "    fig.add_trace(\n",
    "        go.Scatter(\n",
    "            x=list(range(len(val_batch_losses))),\n",
    "            y=val_batch_losses,\n",
    "            name=\"Validation Loss\",\n",
    "            line=dict(color='red', width=1),\n",
    "            mode='lines',\n",
    "            hovertemplate='%{text}<br>Loss: %{y:.4f}<extra></extra>',\n",
    "            text=val_batch_labels\n",
    "        ),\n",
    "        row=2, col=1\n",
    "    )\n",
    "\n",
    "    # 에포크 구분선과 레이블 추가\n",
    "    for i in range(len(history['epochs'])):\n",
    "        # Training 에포크 구분선\n",
    "        fig.add_vline(\n",
    "            x=i * n_train_batches,\n",
    "            line_dash=\"dash\",\n",
    "            line_color=\"gray\",\n",
    "            opacity=0.3,\n",
    "            row=1, col=1\n",
    "        )\n",
    "\n",
    "        # Validation 에포크 구분선\n",
    "        fig.add_vline(\n",
    "            x=i * n_val_batches,\n",
    "            line_dash=\"dash\",\n",
    "            line_color=\"gray\",\n",
    "            opacity=0.3,\n",
    "            row=2, col=1\n",
    "        )\n",
    "\n",
    "    # 레이아웃 업데이트\n",
    "    fig.update_layout(\n",
    "        height=800,\n",
    "        width=1200,\n",
    "        showlegend=True,\n",
    "        template='seaborn',\n",
    "        hovermode='x',\n",
    "        title_text=\"Batch-level Training and Validation Losses\",\n",
    "        title_x=0.5\n",
    "    )\n",
    "\n",
    "    # x축 업데이트 - 에포크 번호만 표시\n",
    "    fig.update_xaxes(\n",
    "        title_text=\"Epoch\",\n",
    "        ticktext=[f'Epoch {i+1}' for i in range(len(history['epochs']))],\n",
    "        tickvals=[i * n_train_batches + n_train_batches/2 for i in range(len(history['epochs']))],\n",
    "        row=1, col=1\n",
    "    )\n",
    "    fig.update_xaxes(\n",
    "        title_text=\"Epoch\",\n",
    "        ticktext=[f'Epoch {i+1}' for i in range(len(history['epochs']))],\n",
    "        tickvals=[i * n_val_batches + n_val_batches/2 for i in range(len(history['epochs']))],\n",
    "        row=2, col=1\n",
    "    )\n",
    "\n",
    "    # y축 업데이트\n",
    "    fig.update_yaxes(title_text=\"Loss\", row=1, col=1)\n",
    "    fig.update_yaxes(title_text=\"Loss\", row=2, col=1)\n",
    "\n",
    "    fig.show()\n",
    "# 그래프 출력\n",
    "plot_training_metrics_plotly(history)\n",
    "plot_detailed_losses_plotly(history)"
   ]
  },
  {
   "cell_type": "code",
   "execution_count": null,
   "id": "ff00cd56",
   "metadata": {
    "colab": {
     "background_save": true
    },
    "id": "ff00cd56"
   },
   "outputs": [],
   "source": [
    "import plotly.express as px\n",
    "import plotly.graph_objects as go\n",
    "from plotly.subplots import make_subplots\n",
    "from sklearn.metrics import classification_report\n",
    "import pandas as pd\n",
    "\n",
    "def plot_class_metrics(history, epoch_idx=-1, phase='val'):\n",
    "    if phase == 'val':\n",
    "        labels = np.concatenate(history['val_history'][epoch_idx]['labels'])\n",
    "        preds = np.concatenate(history['val_history'][epoch_idx]['predictions'])\n",
    "    else:\n",
    "        labels = np.concatenate(history['train_history'][epoch_idx]['labels'])\n",
    "        preds = np.concatenate(history['train_history'][epoch_idx]['predictions'])\n",
    "\n",
    "    # 분류 리포트 생성\n",
    "    report = classification_report(labels, preds, output_dict=True)\n",
    "    df_report = pd.DataFrame(report).transpose()\n",
    "\n",
    "    # Plotly를 사용한 클래스별 메트릭 시각화\n",
    "    fig = go.Figure(data=[\n",
    "        go.Bar(name='Precision', x=df_report.index[:-3], y=df_report['precision'][:-3]),\n",
    "        go.Bar(name='Recall', x=df_report.index[:-3], y=df_report['recall'][:-3]),\n",
    "        go.Bar(name='F1-Score', x=df_report.index[:-3], y=df_report['f1-score'][:-3])\n",
    "    ])\n",
    "\n",
    "    fig.update_layout(\n",
    "        title=f'Class-wise Performance Metrics ({phase} set)',\n",
    "        barmode='group',\n",
    "        xaxis_title='Class',\n",
    "        yaxis_title='Score'\n",
    "    )\n",
    "    fig.show()\n",
    "\n",
    "    return df_report\n",
    "\n",
    "# 분석 실행\n",
    "print(\"Class-wise Performance Analysis:\")\n",
    "class_report = plot_class_metrics(history)\n",
    "print(\"\\nDetailed Classification Report:\")\n",
    "print(class_report)\n"
   ]
  },
  {
   "cell_type": "code",
   "execution_count": null,
   "id": "0098bcf8",
   "metadata": {
    "colab": {
     "background_save": true
    },
    "id": "0098bcf8"
   },
   "outputs": [],
   "source": [
    "def visualize_attention_patterns(history, epoch_idx=-1, phase='val', batch_idx=0, sample_idx=0):\n",
    "    \"\"\"특정 샘플의 입력에 대한 분석\"\"\"\n",
    "    if phase == 'val':\n",
    "        h = history['val_history'][epoch_idx]\n",
    "    else:\n",
    "        h = history['train_history'][epoch_idx]\n",
    "    input_ids = h['input_ids'][batch_idx][sample_idx]\n",
    "    pred = h['predictions'][batch_idx][sample_idx]\n",
    "    true_label = h['labels'][batch_idx][sample_idx]\n",
    "    output = h['outputs'][batch_idx][sample_idx]\n",
    "\n",
    "    print(f\"\\nText (True: {true_label}, Pred: {pred}):\")\n",
    "    print(tokenizer.decode(input_ids))\n",
    "\n",
    "    return go.Bar(\n",
    "       x=list(range(len(output))),\n",
    "       y=output,\n",
    "       name=f'Sample {sample_idx}'\n",
    "    )\n",
    "\n",
    "def show_samples_per_class(history, n_samples=2):\n",
    "    \"\"\"각 클래스별로 n_samples개의 샘플을 보여줌\"\"\"\n",
    "    # 전체 라벨과 인덱스 수집\n",
    "    all_labels = []\n",
    "    all_indices = []\n",
    "\n",
    "    h = history['val_history'][-1]\n",
    "    for batch_idx, batch_labels in enumerate(h['labels']):\n",
    "        for sample_idx, label in enumerate(batch_labels):\n",
    "            all_labels.append(label.item())\n",
    "            all_indices.append((batch_idx, sample_idx))\n",
    "\n",
    "    # 클래스별로 샘플 선택\n",
    "    unique_labels = sorted(set(all_labels))\n",
    "\n",
    "    for label in unique_labels:\n",
    "        print(f\"\\n=== Class {label} Samples ===\")\n",
    "\n",
    "        # 현재 클래스의 모든 샘플 인덱스\n",
    "        label_indices = [idx for idx, l in zip(all_indices, all_labels) if l == label]\n",
    "\n",
    "        # n_samples개 랜덤 선택\n",
    "        selected_indices = random.sample(label_indices, min(n_samples, len(label_indices)))\n",
    "\n",
    "        # 하나의 Figure에 선택된 샘플들의 그래프를 가로로 배치\n",
    "        fig = go.Figure()\n",
    "        for batch_idx, sample_idx in selected_indices:\n",
    "            fig.add_trace(\n",
    "               visualize_attention_patterns(history, batch_idx=batch_idx, sample_idx=sample_idx)\n",
    "            )\n",
    "\n",
    "        fig.update_layout(\n",
    "           title=f'Class {label} Output Scores',\n",
    "           xaxis_title='Class',\n",
    "           yaxis_title='Output Score',\n",
    "           height=400,\n",
    "           barmode='group'  # 막대를 그룹으로 표시\n",
    "        )\n",
    "        fig.show()\n",
    "\n",
    "# 실행\n",
    "import random\n",
    "random.seed(42)  # 재현성을 위한 시드 설정\n",
    "show_samples_per_class(history, n_samples=10)"
   ]
  },
  {
   "cell_type": "code",
   "execution_count": null,
   "id": "ab28a05c",
   "metadata": {
    "colab": {
     "background_save": true
    },
    "id": "ab28a05c"
   },
   "outputs": [],
   "source": [
    "from transformers import AutoTokenizer\n",
    "tokenizer = AutoTokenizer.from_pretrained(\"monologg/koelectra-base-v3-discriminator\")\n",
    "\n",
    "def show_extreme_samples(history, tokenizer, n=5):\n",
    "    all_samples = []\n",
    "\n",
    "    for epoch_idx in range(len(history['train_history'])):\n",
    "        h = history['train_history'][epoch_idx]\n",
    "\n",
    "        for batch_idx, batch_input_ids in enumerate(h['input_ids']):\n",
    "            batch_loss = h['batch_losses'][batch_idx]\n",
    "\n",
    "            for sample_idx, input_ids in enumerate(batch_input_ids):\n",
    "                text = tokenizer.decode(input_ids[input_ids != 0], skip_special_tokens=True)\n",
    "                all_samples.append({\n",
    "                    'epoch': epoch_idx + 1,\n",
    "                    'loss': batch_loss,\n",
    "                    'text': text\n",
    "                })\n",
    "\n",
    "    samples_df = pd.DataFrame(all_samples)\n",
    "\n",
    "    print(\"\\nHighest Loss Samples:\")\n",
    "    print(samples_df.nlargest(n, 'loss')[['epoch', 'loss', 'text']])\n",
    "\n",
    "    print(\"\\nLowest Loss Samples:\")\n",
    "    print(samples_df.nsmallest(n, 'loss')[['epoch', 'loss', 'text']])\n",
    "\n",
    "# 극단적인 샘플들 확인\n",
    "show_extreme_samples(history, tokenizer)"
   ]
  },
  {
   "cell_type": "code",
   "execution_count": null,
   "id": "61b89aae",
   "metadata": {
    "colab": {
     "background_save": true
    },
    "id": "61b89aae"
   },
   "outputs": [],
   "source": [
    "print(history.keys())\n",
    "print(history['train_history'][0].keys())\n",
    "print(history['val_history'][0].keys())\n",
    "print(history['epochs'][0].keys())"
   ]
  },
  {
   "cell_type": "code",
   "execution_count": null,
   "id": "880dbfac",
   "metadata": {
    "colab": {
     "background_save": true
    },
    "id": "880dbfac"
   },
   "outputs": [],
   "source": [
    "# 각 카테고리별로 2개씩 샘플 추출\n",
    "samples = []\n",
    "categories = ['구급', '구조', '기타', '화재']\n",
    "\n",
    "for category in categories:\n",
    "    # 해당 카테고리의 텍스트 2개 랜덤 추출\n",
    "    category_samples = df_valid[df_valid['disasterLarge'] == category]['txt'].sample(n=2, random_state=42).tolist()\n",
    "    samples.extend(category_samples)\n",
    "\n",
    "# 모델 로드 및 설정\n",
    "checkpoint = torch.load('best_model.pt')\n",
    "state_dict = checkpoint['model_state_dict']\n",
    "\n",
    "# \"module.\" 접두사 제거\n",
    "from collections import OrderedDict\n",
    "new_state_dict = OrderedDict()\n",
    "for k, v in state_dict.items():\n",
    "    name = k.replace('module.', '')\n",
    "    new_state_dict[name] = v\n",
    "\n",
    "# 모델 설정\n",
    "model = TextClassifier(base_model, n_classes=4)\n",
    "model.load_state_dict(new_state_dict)\n",
    "model.to(device)\n",
    "model.eval()\n",
    "\n",
    "# 각 샘플에 대한 예측\n",
    "print(\"=== 샘플별 예측 결과 ===\\n\")\n",
    "\n",
    "for i, text in enumerate(samples):\n",
    "    # 토크나이징\n",
    "    inputs = tokenizer(text, return_tensors='pt', truncation=True, max_length=512, padding='max_length')\n",
    "    input_ids = inputs['input_ids'].to(device)\n",
    "    attention_mask = inputs['attention_mask'].to(device)\n",
    "\n",
    "    # 예측\n",
    "    with torch.no_grad():\n",
    "        outputs = model(input_ids, attention_mask)\n",
    "        probs = torch.softmax(outputs, dim=1)\n",
    "        prediction = torch.argmax(outputs, dim=1)\n",
    "\n",
    "    # 원래 카테고리 찾기\n",
    "    original_category = categories[i // 2]\n",
    "\n",
    "    print(f\"\\n[샘플 {i+1}] (원래 카테고리: {original_category})\")\n",
    "    print(f\"텍스트: {tokenizer.decode(input_ids[0].to('cpu'))}\")\n",
    "    print(f\"예측 클래스: {prediction.item()}\")\n",
    "    print(\"클래스별 확률:\")\n",
    "    for j, prob in enumerate(probs[0]):\n",
    "        print(f\"클래스 {j} ({categories[j]}): {prob:.3f}\")"
   ]
  },
  {
   "cell_type": "code",
   "execution_count": null,
   "id": "f14ec4ca",
   "metadata": {
    "colab": {
     "background_save": true
    },
    "id": "f14ec4ca"
   },
   "outputs": [],
   "source": [
    "df_valid"
   ]
  }
 ],
 "metadata": {
  "accelerator": "GPU",
  "colab": {
   "gpuType": "L4",
   "machine_shape": "hm",
   "name": "",
   "version": ""
  },
  "kaggle": {
   "accelerator": "nvidiaTeslaT4",
   "dataSources": [],
   "dockerImageVersionId": 30787,
   "isGpuEnabled": true,
   "isInternetEnabled": true,
   "language": "python",
   "sourceType": "notebook"
  },
  "kernelspec": {
   "display_name": "Python 3",
   "language": "python",
   "name": "python3"
  },
  "language_info": {
   "codemirror_mode": {
    "name": "ipython",
    "version": 3
   },
   "file_extension": ".py",
   "mimetype": "text/x-python",
   "name": "python",
   "nbconvert_exporter": "python",
   "pygments_lexer": "ipython3",
   "version": "3.10.14"
  },
  "papermill": {
   "default_parameters": {},
   "duration": 30700.429788,
   "end_time": "2024-11-10T15:14:43.591259",
   "environment_variables": {},
   "exception": null,
   "input_path": "__notebook__.ipynb",
   "output_path": "__notebook__.ipynb",
   "parameters": {},
   "start_time": "2024-11-10T06:43:03.161471",
   "version": "2.6.0"
  }
 },
 "nbformat": 4,
 "nbformat_minor": 5
}
