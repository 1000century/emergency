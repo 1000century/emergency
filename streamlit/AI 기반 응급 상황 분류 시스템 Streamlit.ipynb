{
 "cells": [
  {
   "cell_type": "code",
   "execution_count": null,
   "metadata": {
    "colab": {
     "base_uri": "https://localhost:8080/"
    },
    "executionInfo": {
     "elapsed": 22029,
     "status": "ok",
     "timestamp": 1731308416705,
     "user": {
      "displayName": "홍승표 (seungpyo_)",
      "userId": "04381283824822176375"
     },
     "user_tz": -540
    },
    "id": "RMYQz84pAr06",
    "outputId": "d6130b1b-2f12-4425-8d4c-4807e8f627b7"
   },
   "outputs": [
    {
     "name": "stdout",
     "output_type": "stream",
     "text": [
      "Mounted at /content/drive\n"
     ]
    }
   ],
   "source": [
    "# Google Drive 마운트\n",
    "from google.colab import drive\n",
    "drive.mount('/content/drive')"
   ]
  },
  {
   "cell_type": "code",
   "execution_count": null,
   "metadata": {
    "id": "frT3YRVvA9WG"
   },
   "outputs": [],
   "source": [
    "pip install streamlit-folium"
   ]
  },
  {
   "cell_type": "code",
   "execution_count": null,
   "metadata": {
    "colab": {
     "base_uri": "https://localhost:8080/"
    },
    "executionInfo": {
     "elapsed": 6515,
     "status": "ok",
     "timestamp": 1731308543795,
     "user": {
      "displayName": "홍승표 (seungpyo_)",
      "userId": "04381283824822176375"
     },
     "user_tz": -540
    },
    "id": "F6V80qeGB6Nk",
    "outputId": "2936e909-df8d-42d1-ebfa-6e9117244512"
   },
   "outputs": [
    {
     "name": "stdout",
     "output_type": "stream",
     "text": [
      "Collecting konlpy\n",
      "  Downloading konlpy-0.6.0-py2.py3-none-any.whl.metadata (1.9 kB)\n",
      "Collecting JPype1>=0.7.0 (from konlpy)\n",
      "  Downloading JPype1-1.5.0-cp310-cp310-manylinux_2_17_x86_64.manylinux2014_x86_64.whl.metadata (4.9 kB)\n",
      "Requirement already satisfied: lxml>=4.1.0 in /usr/local/lib/python3.10/dist-packages (from konlpy) (5.3.0)\n",
      "Requirement already satisfied: numpy>=1.6 in /usr/local/lib/python3.10/dist-packages (from konlpy) (1.26.4)\n",
      "Requirement already satisfied: packaging in /usr/local/lib/python3.10/dist-packages (from JPype1>=0.7.0->konlpy) (24.1)\n",
      "Downloading konlpy-0.6.0-py2.py3-none-any.whl (19.4 MB)\n",
      "\u001b[2K   \u001b[90m━━━━━━━━━━━━━━━━━━━━━━━━━━━━━━━━━━━━━━━━\u001b[0m \u001b[32m19.4/19.4 MB\u001b[0m \u001b[31m75.5 MB/s\u001b[0m eta \u001b[36m0:00:00\u001b[0m\n",
      "\u001b[?25hDownloading JPype1-1.5.0-cp310-cp310-manylinux_2_17_x86_64.manylinux2014_x86_64.whl (488 kB)\n",
      "\u001b[2K   \u001b[90m━━━━━━━━━━━━━━━━━━━━━━━━━━━━━━━━━━━━━━━━\u001b[0m \u001b[32m488.6/488.6 kB\u001b[0m \u001b[31m27.0 MB/s\u001b[0m eta \u001b[36m0:00:00\u001b[0m\n",
      "\u001b[?25hInstalling collected packages: JPype1, konlpy\n",
      "Successfully installed JPype1-1.5.0 konlpy-0.6.0\n"
     ]
    }
   ],
   "source": [
    "!pip install konlpy"
   ]
  },
  {
   "cell_type": "code",
   "execution_count": null,
   "metadata": {
    "colab": {
     "base_uri": "https://localhost:8080/"
    },
    "executionInfo": {
     "elapsed": 654,
     "status": "ok",
     "timestamp": 1731314639859,
     "user": {
      "displayName": "홍승표 (seungpyo_)",
      "userId": "04381283824822176375"
     },
     "user_tz": -540
    },
    "id": "nzzyfST8A7EB",
    "outputId": "4c7a5d84-ff5e-4563-8d54-630e176ec8ce"
   },
   "outputs": [
    {
     "name": "stdout",
     "output_type": "stream",
     "text": [
      "Overwriting app.py\n"
     ]
    }
   ],
   "source": [
    "%%writefile app.py\n",
    "import streamlit as st\n",
    "import torch\n",
    "import torch.nn as nn\n",
    "from transformers import AutoTokenizer, ElectraModel\n",
    "from konlpy.tag import Okt\n",
    "import re\n",
    "import time\n",
    "\n",
    "# Kakao Maps API 키 설정\n",
    "KAKAO_MAP_API_KEY = '<카카오 api 키를 입력하세요>'\n",
    "\n",
    "# device 설정\n",
    "device = torch.device(\"cuda\" if torch.cuda.is_available() else \"cpu\")\n",
    "\n",
    "# 모델 클래스 정의\n",
    "class MultiTaskElectraModel(nn.Module):\n",
    "    def __init__(self, num_type_labels, num_disaster_labels):\n",
    "        super(MultiTaskElectraModel, self).__init__()\n",
    "        self.electra = ElectraModel.from_pretrained('beomi/KcELECTRA-base')\n",
    "        self.dropout = nn.Dropout(0.1)\n",
    "        self.classifier_type = nn.Linear(self.electra.config.hidden_size, num_type_labels)\n",
    "        self.classifier_disaster = nn.Linear(self.electra.config.hidden_size, num_disaster_labels)\n",
    "\n",
    "    def forward(self, input_ids, attention_mask):\n",
    "        outputs = self.electra(input_ids=input_ids, attention_mask=attention_mask)\n",
    "        pooled_output = outputs[0][:, 0]\n",
    "        pooled_output = self.dropout(pooled_output)\n",
    "        logits_type = self.classifier_type(pooled_output)\n",
    "        logits_disaster = self.classifier_disaster(pooled_output)\n",
    "        return logits_type, logits_disaster\n",
    "\n",
    "# 모델과 토크나이저 설정\n",
    "num_type_labels = 4\n",
    "num_disaster_labels = 16\n",
    "model = MultiTaskElectraModel(num_type_labels, num_disaster_labels)\n",
    "model.load_state_dict(torch.load('/content/drive/MyDrive/실전프로젝트1 제출폴더/best_model.pt', map_location=device))\n",
    "model.to(device)\n",
    "model.eval()\n",
    "tokenizer = AutoTokenizer.from_pretrained('beomi/KcELECTRA-base', use_fast=False)\n",
    "\n",
    "# 레이블 매핑\n",
    "type_label_mapping = {0: '구급', 1: '구조', 2: '기타', 3: '화재'}\n",
    "disaster_label_mapping = {\n",
    "    0: '기타', 1: '기타구급', 2: '기타구조', 3: '기타화재', 4: '대물사고',\n",
    "    5: '부상', 6: '사고', 7: '산불', 8: '심정지', 9: '안전사고',\n",
    "    10: '약물중독', 11: '일반화재', 12: '임산부', 13: '자살',\n",
    "    14: '질병(중증 외)', 15: '질병(중증)'\n",
    "}\n",
    "\n",
    "# 위치 정보 추출 함수 정의\n",
    "def extract_location_with_regex(text):\n",
    "    pattern = r'([가-힣]+[특별시|광역시|도]\\s?[가-힣]+[구|군|시]\\s?[가-힣0-9\\-]+[로|길|가]?\\s?[0-9\\-]*[번지]?)'\n",
    "    matches = re.findall(pattern, text)\n",
    "    if matches:\n",
    "        return matches[0]\n",
    "    else:\n",
    "        return None\n",
    "\n",
    "def extract_location_with_okt(text):\n",
    "    okt = Okt()\n",
    "    nouns = okt.nouns(text)\n",
    "    location_candidates = [noun for noun in nouns if len(noun) > 1]\n",
    "\n",
    "    for loc in location_candidates:\n",
    "        # 실제 위치 좌표 확인 로직이 필요하다면 이곳에 추가\n",
    "        return loc  # 위치명만 반환\n",
    "    return None\n",
    "\n",
    "# 통합 위치 추출 함수\n",
    "def extract_location(text):\n",
    "    location = extract_location_with_regex(text)\n",
    "    if location:\n",
    "        return location\n",
    "\n",
    "    location = extract_location_with_okt(text)\n",
    "    if location:\n",
    "        return location\n",
    "\n",
    "    return None\n",
    "\n",
    "# 키워드 추출 함수\n",
    "def extract_keywords(text, num_keywords=10):\n",
    "    okt = Okt()\n",
    "    nouns = okt.nouns(text)\n",
    "    nouns = [n for n in nouns if len(n) > 1]\n",
    "    freq = {}\n",
    "    for noun in nouns:\n",
    "        freq[noun] = freq.get(noun, 0) + 1\n",
    "    sorted_keywords = sorted(freq.items(), key=lambda x: x[1], reverse=True)\n",
    "    keywords = [word for word, count in sorted_keywords[:num_keywords]]\n",
    "    return keywords\n",
    "\n",
    "# 예측 함수\n",
    "def predict(text, model, tokenizer, device):\n",
    "    inputs = tokenizer(\n",
    "        text,\n",
    "        return_tensors='pt',\n",
    "        truncation=True,\n",
    "        padding=True,\n",
    "        max_length=256\n",
    "    )\n",
    "    input_ids = inputs['input_ids'].to(device)\n",
    "    attention_mask = inputs['attention_mask'].to(device)\n",
    "\n",
    "    with torch.no_grad():\n",
    "        logits_type, logits_disaster = model(input_ids, attention_mask)\n",
    "\n",
    "    pred_type_idx = logits_type.argmax(dim=1).item()\n",
    "    pred_disaster_idx = logits_disaster.argmax(dim=1).item()\n",
    "\n",
    "    return pred_type_idx, pred_disaster_idx\n",
    "\n",
    "# 텍스트 분석 함수\n",
    "def analyze_emergency_text(text):\n",
    "    pred_type_idx, pred_disaster_idx = predict(text, model, tokenizer, device)\n",
    "    pred_type = type_label_mapping.get(pred_type_idx, \"Unknown\")\n",
    "    pred_disaster = disaster_label_mapping.get(pred_disaster_idx, \"Unknown\")\n",
    "    keywords = extract_keywords(text)\n",
    "    location = extract_location(text)\n",
    "    return pred_type, pred_disaster, keywords, location\n",
    "\n",
    "# Streamlit UI 설정\n",
    "st.set_page_config(page_title=\"AI 응급 상황 분류 시스템\", layout=\"wide\")\n",
    "\n",
    "# 메인 제목\n",
    "st.title(\"🚨 AI 기반 응급 상황 분류 시스템\")\n",
    "st.write(\"대화를 분석하여 응급 상황 유형, 재난 상황, 위치 정보를 추출합니다.\")\n",
    "\n",
    "# 기본 텍스트 설정\n",
    "dialogue_text = [\n",
    "    \"[SPEAKER_0] 119입니다. 무엇을 도와드릴까요?\",\n",
    "    \"[SPEAKER_1] 네, 친구가 등산 중에 사고를 당했어요! 바위에서 미끄러져 크게 다쳤습니다.\",\n",
    "    \"[SPEAKER_0] 알겠습니다. 현재 위치가 어디신가요?\",\n",
    "    \"[SPEAKER_1] 서울특별시 종로구 청운동 부근의 산 중턱입니다. 위치가 정확하지 않아서요.\",\n",
    "    \"[SPEAKER_0] 괜찮습니다. 위치 추적을 시도해보겠습니다. 친구분의 상태를 좀 더 자세히 말씀해주시겠어요?\",\n",
    "    \"[SPEAKER_1] 네, 머리를 다쳤고 피가 많이 나고 있어요. 의식은 있지만, 많이 아파하고 움직일 수가 없어요.\",\n",
    "    \"[SPEAKER_0] 알겠습니다. 지금 바로 구조대를 보내드리겠습니다. 혹시 응급 처치를 시도해보신 적 있으신가요?\",\n",
    "    \"[SPEAKER_1] 아니요, 어떻게 해야 할지 몰라서요.\",\n",
    "    \"[SPEAKER_0] 괜찮습니다. 제가 안내해드리겠습니다. 우선 친구분이 가능한 편안한 자세를 취할 수 있도록 해주시고, 머리 부분에 지혈을 위해 깨끗한 천을 대주세요.\",\n",
    "    \"[SPEAKER_1] 네, 지금 그렇게 하고 있습니다. 그런데 친구가 많이 불안해하고 있어요.\",\n",
    "    \"[SPEAKER_0] 네, 친구분을 안심시켜 주시고, 구급대가 도착할 때까지 지혈을 계속해주세요. 친구분이 너무 움직이지 않도록 주의해주세요.\",\n",
    "    \"[SPEAKER_1] 알겠습니다. 구급대가 얼마나 걸릴까요?\",\n",
    "    \"[SPEAKER_0] 현재 구급대가 출발한 상태이며 최대한 빠르게 도착할 수 있도록 하겠습니다. 계속해서 친구분을 진정시키며 상태를 지켜봐 주세요.\"\n",
    "]\n",
    "\n",
    "# 세션 상태 초기화\n",
    "if \"current_line\" not in st.session_state:\n",
    "    st.session_state.current_line = 0\n",
    "    st.session_state.chat_history = []\n",
    "    st.session_state.pred_type = \"Unknown\"\n",
    "    st.session_state.pred_disaster = \"Unknown\"\n",
    "    st.session_state.keywords = []\n",
    "    st.session_state.location = None\n",
    "\n",
    "# 대화 창을 위한 빈 공간을 준비합니다.\n",
    "chat_display = st.empty()\n",
    "\n",
    "# 대화 표시 및 모든 대화 출력 후 분석\n",
    "for line_index in range(st.session_state.current_line, len(dialogue_text)):\n",
    "    current_text = dialogue_text[line_index]\n",
    "    st.session_state.chat_history.append(current_text)\n",
    "    st.session_state.current_line += 1\n",
    "\n",
    "    # 채팅 형태로 대화 표시\n",
    "    with chat_display.container():\n",
    "        st.write(\"### 📞 대화 내용\")\n",
    "        for line in st.session_state.chat_history:\n",
    "            if \"[SPEAKER_0]\" in line:\n",
    "                st.markdown(f\"<div style='text-align: left; color: blue;'>{line}</div>\", unsafe_allow_html=True)\n",
    "            elif \"[SPEAKER_1]\" in line:\n",
    "                st.markdown(f\"<div style='text-align: right; color: green;'>{line}</div>\", unsafe_allow_html=True)\n",
    "\n",
    "    # 1초 대기 후 다음 줄로 진행\n",
    "    time.sleep(1)\n",
    "\n",
    "# 모든 대화 출력 후 분석 수행\n",
    "cumulative_text = '\\n'.join(st.session_state.chat_history)\n",
    "pred_type, pred_disaster, keywords, location = analyze_emergency_text(cumulative_text)\n",
    "st.session_state.pred_type = pred_type\n",
    "st.session_state.pred_disaster = pred_disaster\n",
    "st.session_state.keywords = keywords\n",
    "if location:\n",
    "    st.session_state.location = location  # 위치 정보 업데이트\n",
    "\n",
    "# 예측 결과 표시\n",
    "st.write(\"### 2️⃣ 분석 결과\")\n",
    "st.subheader(\"📌 재난 유형 (Type)\")\n",
    "st.write(st.session_state.pred_type)\n",
    "st.subheader(\"📌 재난 상황 (Disaster)\")\n",
    "st.write(st.session_state.pred_disaster)\n",
    "st.subheader(\"📌 응급 키워드\")\n",
    "st.write(\", \".join(st.session_state.keywords) if st.session_state.keywords else \"키워드가 추출되지 않았습니다.\")\n",
    "\n",
    "# Kakao Map 표시\n",
    "if st.session_state.location:\n",
    "    st.subheader(\"📌 위치 정보\")\n",
    "    st.write(st.session_state.location)\n",
    "    kakao_map_url = f\"https://map.kakao.com/link/search/{st.session_state.location}\"\n",
    "    st.markdown(\n",
    "        f'<iframe width=\"100%\" height=\"400\" src=\"{kakao_map_url}\"></iframe>',\n",
    "        unsafe_allow_html=True\n",
    "    )\n",
    "else:\n",
    "    st.write(\"위치 정보가 추출되지 않았습니다.\")"
   ]
  },
  {
   "cell_type": "code",
   "execution_count": null,
   "metadata": {
    "colab": {
     "base_uri": "https://localhost:8080/"
    },
    "executionInfo": {
     "elapsed": 2625,
     "status": "ok",
     "timestamp": 1731308476937,
     "user": {
      "displayName": "홍승표 (seungpyo_)",
      "userId": "04381283824822176375"
     },
     "user_tz": -540
    },
    "id": "qINrGOtOBHxH",
    "outputId": "376cc0fb-eaca-4d6f-c180-1fdea9dfb362"
   },
   "outputs": [
    {
     "name": "stdout",
     "output_type": "stream",
     "text": [
      "\u001b[K\u001b[?25h\n",
      "added 22 packages, and audited 23 packages in 1s\n",
      "\n",
      "3 packages are looking for funding\n",
      "  run `npm fund` for details\n",
      "\n",
      "2 \u001b[33m\u001b[1mmoderate\u001b[22m\u001b[39m severity vulnerabilities\n",
      "\n",
      "To address all issues, run:\n",
      "  npm audit fix\n",
      "\n",
      "Run `npm audit` for details.\n"
     ]
    }
   ],
   "source": [
    "!npm install localtunnel"
   ]
  },
  {
   "cell_type": "code",
   "execution_count": null,
   "metadata": {
    "colab": {
     "base_uri": "https://localhost:8080/"
    },
    "executionInfo": {
     "elapsed": 865,
     "status": "ok",
     "timestamp": 1731308480823,
     "user": {
      "displayName": "홍승표 (seungpyo_)",
      "userId": "04381283824822176375"
     },
     "user_tz": -540
    },
    "id": "NBg8WXhBBJh4",
    "outputId": "11836615-e766-4bf9-dc52-ec6842879716"
   },
   "outputs": [
    {
     "name": "stdout",
     "output_type": "stream",
     "text": [
      "34.139.107.141"
     ]
    }
   ],
   "source": [
    "!curl https://loca.lt/mytunnelpassword"
   ]
  },
  {
   "cell_type": "code",
   "execution_count": null,
   "metadata": {
    "colab": {
     "base_uri": "https://localhost:8080/"
    },
    "executionInfo": {
     "elapsed": 2146,
     "status": "ok",
     "timestamp": 1731314648046,
     "user": {
      "displayName": "홍승표 (seungpyo_)",
      "userId": "04381283824822176375"
     },
     "user_tz": -540
    },
    "id": "2uDmqQBnBK58",
    "outputId": "5d97cd63-c7c9-47c8-ca7d-bd1a577b4466"
   },
   "outputs": [
    {
     "name": "stdout",
     "output_type": "stream",
     "text": [
      "^C\n"
     ]
    }
   ],
   "source": [
    "!streamlit run app.py --server.address=0.0.0.0 --server.port=8501 --server.headless=true &>/content/logs.txt & npx localtunnel --port 8501"
   ]
  }
 ],
 "metadata": {
  "colab": {
   "authorship_tag": "ABX9TyO1vYvh+Agamt5iKDH2suJk",
   "provenance": []
  },
  "kernelspec": {
   "display_name": "Python 3",
   "name": "python3"
  },
  "language_info": {
   "name": "python"
  }
 },
 "nbformat": 4,
 "nbformat_minor": 0
}
